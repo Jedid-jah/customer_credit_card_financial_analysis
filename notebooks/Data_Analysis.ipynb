{
 "cells": [
  {
   "cell_type": "markdown",
   "id": "6de728c5-8f42-4bc1-b92a-72767c16860c",
   "metadata": {},
   "source": [
    "## 📊 Dataset Introduction\n",
    "##### This dataset contains transactional and demographic records for credit card customers, designed to support financial analytics and customer behavior modeling. It includes key variables such as:\n",
    "\n",
    "- Client Identifiers (`Client_Num`)\n",
    "- Demographics: `Gender`,` Education_Level`, `Marital_Status`, `Customer_Job`, `state_cd`\n",
    "- Financial Metrics: `Income`, `Credit_Limit`, `Interest_Earned`, `Total_Trans_Amt`, `Delinquent_Acc`\n",
    "- Categorical Variables: `Card_Category`, `Use_Chip`, `Cust_Satisfaction_Score`, `Exp_Type`\n",
    "- Temporal Dimension: `Month`\n",
    "\n",
    "##### The dataset supports various forms of analysis, including:\n",
    "\n",
    "- Customer segmentation\n",
    "- Income distribution analysis\n",
    "- Credit risk profiling\n",
    "- Time-series transaction trends\n",
    "- Behavioral patterns by card type or region"
   ]
  },
  {
   "cell_type": "code",
   "execution_count": 6,
   "id": "5b0a3fec-b24f-48f2-a838-cb21cb312b0d",
   "metadata": {},
   "outputs": [],
   "source": [
    "# Import libraries \n",
    "import os\n",
    "import pandas as pd\n",
    "import numpy as np\n",
    "import plotly.express as px"
   ]
  },
  {
   "cell_type": "code",
   "execution_count": 7,
   "id": "17bcd879-49de-4d48-8467-f6cafb0bde4b",
   "metadata": {},
   "outputs": [],
   "source": [
    "#Get working directory\n",
    "current_dir = os.getcwd()\n",
    "#go one directory up to root directory\n",
    "project_root_dir = os.path.dirname(current_dir)\n",
    "#Define path to data files\n",
    "data_dir = os.path.join(project_root_dir, 'data')\n",
    "raw_dir = os.path.join(data_dir, 'raw')\n",
    "processed_dir = os.path.join(data_dir, 'processed')\n",
    "#Define path to results folder\n",
    "results_dir = os.path.join(project_root_dir, 'results')\n",
    "#Define path to results folder\n",
    "docs_dir = os.path.join(project_root_dir, 'docs')\n",
    "\n",
    "#Create directories if they do not exist\n",
    "os.makedirs(raw_dir, exist_ok=True)\n",
    "os.makedirs(processed_dir, exist_ok=True)\n",
    "os.makedirs(results_dir, exist_ok=True)\n",
    "os.makedirs(docs_dir, exist_ok=True)"
   ]
  },
  {
   "cell_type": "markdown",
   "id": "41ce6188-35d2-4caa-9992-99b1f4980286",
   "metadata": {},
   "source": [
    "###  Read in Data"
   ]
  },
  {
   "cell_type": "code",
   "execution_count": 8,
   "id": "4ef9f0a0-9f72-46ad-b7d5-78ce4847887f",
   "metadata": {},
   "outputs": [
    {
     "data": {
      "text/html": [
       "<div>\n",
       "<style scoped>\n",
       "    .dataframe tbody tr th:only-of-type {\n",
       "        vertical-align: middle;\n",
       "    }\n",
       "\n",
       "    .dataframe tbody tr th {\n",
       "        vertical-align: top;\n",
       "    }\n",
       "\n",
       "    .dataframe thead th {\n",
       "        text-align: right;\n",
       "    }\n",
       "</style>\n",
       "<table border=\"1\" class=\"dataframe\">\n",
       "  <thead>\n",
       "    <tr style=\"text-align: right;\">\n",
       "      <th></th>\n",
       "      <th>Client_Num</th>\n",
       "      <th>Card_Category</th>\n",
       "      <th>Annual_Fees</th>\n",
       "      <th>Activation_30_Days</th>\n",
       "      <th>Customer_Acq_Cost</th>\n",
       "      <th>Week_Start_Date</th>\n",
       "      <th>Week_Num</th>\n",
       "      <th>Qtr</th>\n",
       "      <th>current_year</th>\n",
       "      <th>Credit_Limit</th>\n",
       "      <th>...</th>\n",
       "      <th>Education_Level</th>\n",
       "      <th>Marital_Status</th>\n",
       "      <th>state_cd</th>\n",
       "      <th>Car_Owner</th>\n",
       "      <th>House_Owner</th>\n",
       "      <th>Personal_loan</th>\n",
       "      <th>Customer_Job</th>\n",
       "      <th>Income</th>\n",
       "      <th>Cust_Satisfaction_Score</th>\n",
       "      <th>Month</th>\n",
       "    </tr>\n",
       "  </thead>\n",
       "  <tbody>\n",
       "    <tr>\n",
       "      <th>0</th>\n",
       "      <td>708082083</td>\n",
       "      <td>Blue</td>\n",
       "      <td>200</td>\n",
       "      <td>0</td>\n",
       "      <td>87</td>\n",
       "      <td>2023-01-01</td>\n",
       "      <td>Week-1</td>\n",
       "      <td>Q1</td>\n",
       "      <td>2023</td>\n",
       "      <td>3544.0</td>\n",
       "      <td>...</td>\n",
       "      <td>Uneducated</td>\n",
       "      <td>Single</td>\n",
       "      <td>Florida</td>\n",
       "      <td>no</td>\n",
       "      <td>yes</td>\n",
       "      <td>no</td>\n",
       "      <td>Businessman</td>\n",
       "      <td>202326</td>\n",
       "      <td>3</td>\n",
       "      <td>January</td>\n",
       "    </tr>\n",
       "    <tr>\n",
       "      <th>1</th>\n",
       "      <td>708083283</td>\n",
       "      <td>Blue</td>\n",
       "      <td>445</td>\n",
       "      <td>1</td>\n",
       "      <td>108</td>\n",
       "      <td>2023-01-01</td>\n",
       "      <td>Week-1</td>\n",
       "      <td>Q1</td>\n",
       "      <td>2023</td>\n",
       "      <td>3421.0</td>\n",
       "      <td>...</td>\n",
       "      <td>Unknown</td>\n",
       "      <td>Married</td>\n",
       "      <td>New Jersey</td>\n",
       "      <td>no</td>\n",
       "      <td>no</td>\n",
       "      <td>no</td>\n",
       "      <td>Selfemployeed</td>\n",
       "      <td>5225</td>\n",
       "      <td>2</td>\n",
       "      <td>January</td>\n",
       "    </tr>\n",
       "    <tr>\n",
       "      <th>2</th>\n",
       "      <td>708084558</td>\n",
       "      <td>Blue</td>\n",
       "      <td>140</td>\n",
       "      <td>0</td>\n",
       "      <td>106</td>\n",
       "      <td>2023-01-01</td>\n",
       "      <td>Week-1</td>\n",
       "      <td>Q1</td>\n",
       "      <td>2023</td>\n",
       "      <td>8258.0</td>\n",
       "      <td>...</td>\n",
       "      <td>Unknown</td>\n",
       "      <td>Married</td>\n",
       "      <td>New Jersey</td>\n",
       "      <td>yes</td>\n",
       "      <td>no</td>\n",
       "      <td>no</td>\n",
       "      <td>Selfemployeed</td>\n",
       "      <td>14235</td>\n",
       "      <td>2</td>\n",
       "      <td>January</td>\n",
       "    </tr>\n",
       "    <tr>\n",
       "      <th>3</th>\n",
       "      <td>708085458</td>\n",
       "      <td>Blue</td>\n",
       "      <td>250</td>\n",
       "      <td>1</td>\n",
       "      <td>150</td>\n",
       "      <td>2023-01-01</td>\n",
       "      <td>Week-1</td>\n",
       "      <td>Q1</td>\n",
       "      <td>2023</td>\n",
       "      <td>1438.3</td>\n",
       "      <td>...</td>\n",
       "      <td>Uneducated</td>\n",
       "      <td>Single</td>\n",
       "      <td>New York</td>\n",
       "      <td>no</td>\n",
       "      <td>no</td>\n",
       "      <td>no</td>\n",
       "      <td>Blue-Collar</td>\n",
       "      <td>45683</td>\n",
       "      <td>1</td>\n",
       "      <td>January</td>\n",
       "    </tr>\n",
       "    <tr>\n",
       "      <th>4</th>\n",
       "      <td>708086958</td>\n",
       "      <td>Blue</td>\n",
       "      <td>320</td>\n",
       "      <td>1</td>\n",
       "      <td>106</td>\n",
       "      <td>2023-01-01</td>\n",
       "      <td>Week-1</td>\n",
       "      <td>Q1</td>\n",
       "      <td>2023</td>\n",
       "      <td>3128.0</td>\n",
       "      <td>...</td>\n",
       "      <td>Graduate</td>\n",
       "      <td>Single</td>\n",
       "      <td>Texas</td>\n",
       "      <td>yes</td>\n",
       "      <td>yes</td>\n",
       "      <td>no</td>\n",
       "      <td>Businessman</td>\n",
       "      <td>59279</td>\n",
       "      <td>1</td>\n",
       "      <td>January</td>\n",
       "    </tr>\n",
       "    <tr>\n",
       "      <th>5</th>\n",
       "      <td>708095133</td>\n",
       "      <td>Blue</td>\n",
       "      <td>100</td>\n",
       "      <td>0</td>\n",
       "      <td>94</td>\n",
       "      <td>2023-01-01</td>\n",
       "      <td>Week-1</td>\n",
       "      <td>Q1</td>\n",
       "      <td>2023</td>\n",
       "      <td>33304.0</td>\n",
       "      <td>...</td>\n",
       "      <td>High School</td>\n",
       "      <td>Single</td>\n",
       "      <td>New York</td>\n",
       "      <td>no</td>\n",
       "      <td>yes</td>\n",
       "      <td>no</td>\n",
       "      <td>Selfemployeed</td>\n",
       "      <td>14254</td>\n",
       "      <td>3</td>\n",
       "      <td>January</td>\n",
       "    </tr>\n",
       "    <tr>\n",
       "      <th>6</th>\n",
       "      <td>708098133</td>\n",
       "      <td>Blue</td>\n",
       "      <td>225</td>\n",
       "      <td>1</td>\n",
       "      <td>75</td>\n",
       "      <td>2023-01-01</td>\n",
       "      <td>Week-1</td>\n",
       "      <td>Q1</td>\n",
       "      <td>2023</td>\n",
       "      <td>2834.0</td>\n",
       "      <td>...</td>\n",
       "      <td>Graduate</td>\n",
       "      <td>Single</td>\n",
       "      <td>California</td>\n",
       "      <td>yes</td>\n",
       "      <td>no</td>\n",
       "      <td>no</td>\n",
       "      <td>Selfemployeed</td>\n",
       "      <td>14975</td>\n",
       "      <td>2</td>\n",
       "      <td>January</td>\n",
       "    </tr>\n",
       "    <tr>\n",
       "      <th>7</th>\n",
       "      <td>708099183</td>\n",
       "      <td>Blue</td>\n",
       "      <td>400</td>\n",
       "      <td>1</td>\n",
       "      <td>75</td>\n",
       "      <td>2023-01-01</td>\n",
       "      <td>Week-1</td>\n",
       "      <td>Q1</td>\n",
       "      <td>2023</td>\n",
       "      <td>5723.0</td>\n",
       "      <td>...</td>\n",
       "      <td>Uneducated</td>\n",
       "      <td>Single</td>\n",
       "      <td>California</td>\n",
       "      <td>no</td>\n",
       "      <td>no</td>\n",
       "      <td>no</td>\n",
       "      <td>Retirees</td>\n",
       "      <td>31982</td>\n",
       "      <td>2</td>\n",
       "      <td>January</td>\n",
       "    </tr>\n",
       "    <tr>\n",
       "      <th>8</th>\n",
       "      <td>708100533</td>\n",
       "      <td>Blue</td>\n",
       "      <td>200</td>\n",
       "      <td>1</td>\n",
       "      <td>64</td>\n",
       "      <td>2023-01-01</td>\n",
       "      <td>Week-1</td>\n",
       "      <td>Q1</td>\n",
       "      <td>2023</td>\n",
       "      <td>2679.0</td>\n",
       "      <td>...</td>\n",
       "      <td>High School</td>\n",
       "      <td>Married</td>\n",
       "      <td>New Jersey</td>\n",
       "      <td>yes</td>\n",
       "      <td>no</td>\n",
       "      <td>no</td>\n",
       "      <td>Businessman</td>\n",
       "      <td>86668</td>\n",
       "      <td>2</td>\n",
       "      <td>January</td>\n",
       "    </tr>\n",
       "    <tr>\n",
       "      <th>9</th>\n",
       "      <td>708103608</td>\n",
       "      <td>Platinum</td>\n",
       "      <td>95</td>\n",
       "      <td>1</td>\n",
       "      <td>80</td>\n",
       "      <td>2023-01-01</td>\n",
       "      <td>Week-1</td>\n",
       "      <td>Q1</td>\n",
       "      <td>2023</td>\n",
       "      <td>11898.0</td>\n",
       "      <td>...</td>\n",
       "      <td>Graduate</td>\n",
       "      <td>Married</td>\n",
       "      <td>New Jersey</td>\n",
       "      <td>yes</td>\n",
       "      <td>yes</td>\n",
       "      <td>no</td>\n",
       "      <td>Businessman</td>\n",
       "      <td>223196</td>\n",
       "      <td>1</td>\n",
       "      <td>January</td>\n",
       "    </tr>\n",
       "  </tbody>\n",
       "</table>\n",
       "<p>10 rows × 31 columns</p>\n",
       "</div>"
      ],
      "text/plain": [
       "   Client_Num Card_Category  Annual_Fees  Activation_30_Days  \\\n",
       "0   708082083          Blue          200                   0   \n",
       "1   708083283          Blue          445                   1   \n",
       "2   708084558          Blue          140                   0   \n",
       "3   708085458          Blue          250                   1   \n",
       "4   708086958          Blue          320                   1   \n",
       "5   708095133          Blue          100                   0   \n",
       "6   708098133          Blue          225                   1   \n",
       "7   708099183          Blue          400                   1   \n",
       "8   708100533          Blue          200                   1   \n",
       "9   708103608      Platinum           95                   1   \n",
       "\n",
       "   Customer_Acq_Cost Week_Start_Date Week_Num Qtr  current_year  Credit_Limit  \\\n",
       "0                 87      2023-01-01   Week-1  Q1          2023        3544.0   \n",
       "1                108      2023-01-01   Week-1  Q1          2023        3421.0   \n",
       "2                106      2023-01-01   Week-1  Q1          2023        8258.0   \n",
       "3                150      2023-01-01   Week-1  Q1          2023        1438.3   \n",
       "4                106      2023-01-01   Week-1  Q1          2023        3128.0   \n",
       "5                 94      2023-01-01   Week-1  Q1          2023       33304.0   \n",
       "6                 75      2023-01-01   Week-1  Q1          2023        2834.0   \n",
       "7                 75      2023-01-01   Week-1  Q1          2023        5723.0   \n",
       "8                 64      2023-01-01   Week-1  Q1          2023        2679.0   \n",
       "9                 80      2023-01-01   Week-1  Q1          2023       11898.0   \n",
       "\n",
       "   ...  Education_Level  Marital_Status    state_cd  Car_Owner House_Owner  \\\n",
       "0  ...       Uneducated          Single     Florida         no         yes   \n",
       "1  ...          Unknown         Married  New Jersey         no          no   \n",
       "2  ...          Unknown         Married  New Jersey        yes          no   \n",
       "3  ...       Uneducated          Single    New York         no          no   \n",
       "4  ...         Graduate          Single       Texas        yes         yes   \n",
       "5  ...      High School          Single    New York         no         yes   \n",
       "6  ...         Graduate          Single  California        yes          no   \n",
       "7  ...       Uneducated          Single  California         no          no   \n",
       "8  ...      High School         Married  New Jersey        yes          no   \n",
       "9  ...         Graduate         Married  New Jersey        yes         yes   \n",
       "\n",
       "  Personal_loan   Customer_Job  Income  Cust_Satisfaction_Score    Month  \n",
       "0            no    Businessman  202326                        3  January  \n",
       "1            no  Selfemployeed    5225                        2  January  \n",
       "2            no  Selfemployeed   14235                        2  January  \n",
       "3            no    Blue-Collar   45683                        1  January  \n",
       "4            no    Businessman   59279                        1  January  \n",
       "5            no  Selfemployeed   14254                        3  January  \n",
       "6            no  Selfemployeed   14975                        2  January  \n",
       "7            no       Retirees   31982                        2  January  \n",
       "8            no    Businessman   86668                        2  January  \n",
       "9            no    Businessman  223196                        1  January  \n",
       "\n",
       "[10 rows x 31 columns]"
      ]
     },
     "execution_count": 8,
     "metadata": {},
     "output_type": "execute_result"
    }
   ],
   "source": [
    "merged_data_filename = os.path.join(processed_dir, \"credit_customer_data.csv\")\n",
    "merged_df = pd.read_csv(merged_data_filename)\n",
    "merged_df.head(10)"
   ]
  },
  {
   "cell_type": "code",
   "execution_count": 21,
   "id": "b54658ba-ad72-45b3-aeef-3b10fd4465b0",
   "metadata": {},
   "outputs": [
    {
     "data": {
      "text/plain": [
       "Index(['Client_Num', 'Card_Category', 'Annual_Fees', 'Activation_30_Days',\n",
       "       'Customer_Acq_Cost', 'Week_Start_Date', 'Week_Num', 'Qtr',\n",
       "       'current_year', 'Credit_Limit', 'Total_Revolving_Bal',\n",
       "       'Total_Trans_Amt', 'Total_Trans_Vol', 'Avg_Utilization_Ratio',\n",
       "       'Use Chip', 'Exp Type', 'Interest_Earned', 'Delinquent_Acc',\n",
       "       'Customer_Age', 'Gender', 'Dependent_Count', 'Education_Level',\n",
       "       'Marital_Status', 'state_cd', 'Car_Owner', 'House_Owner',\n",
       "       'Personal_loan', 'Customer_Job', 'Income', 'Cust_Satisfaction_Score',\n",
       "       'Month'],\n",
       "      dtype='object')"
      ]
     },
     "execution_count": 21,
     "metadata": {},
     "output_type": "execute_result"
    }
   ],
   "source": [
    "merged_df.columns"
   ]
  },
  {
   "cell_type": "code",
   "execution_count": 22,
   "id": "18a65b99-8148-4193-9ee5-ff9b16f5c479",
   "metadata": {},
   "outputs": [
    {
     "data": {
      "text/plain": [
       "(10108, 31)"
      ]
     },
     "execution_count": 22,
     "metadata": {},
     "output_type": "execute_result"
    }
   ],
   "source": [
    "merged_df.shape"
   ]
  },
  {
   "cell_type": "code",
   "execution_count": 23,
   "id": "c6f3555d-f400-4052-94cc-e63d897604e3",
   "metadata": {},
   "outputs": [
    {
     "data": {
      "text/plain": [
       "<bound method DataFrame.info of        Client_Num Card_Category  Annual_Fees  Activation_30_Days  \\\n",
       "0       708082083          Blue          200                   0   \n",
       "1       708083283          Blue          445                   1   \n",
       "2       708084558          Blue          140                   0   \n",
       "3       708085458          Blue          250                   1   \n",
       "4       708086958          Blue          320                   1   \n",
       "...           ...           ...          ...                 ...   \n",
       "10103   827695683          Blue          340                   1   \n",
       "10104   827703258          Blue          395                   1   \n",
       "10105   827712108          Blue          125                   1   \n",
       "10106   827888433          Blue          410                   0   \n",
       "10107   827890758          Blue          100                   0   \n",
       "\n",
       "       Customer_Acq_Cost Week_Start_Date Week_Num Qtr  current_year  \\\n",
       "0                     87      2023-01-01   Week-1  Q1          2023   \n",
       "1                    108      2023-01-01   Week-1  Q1          2023   \n",
       "2                    106      2023-01-01   Week-1  Q1          2023   \n",
       "3                    150      2023-01-01   Week-1  Q1          2023   \n",
       "4                    106      2023-01-01   Week-1  Q1          2023   \n",
       "...                  ...             ...      ...  ..           ...   \n",
       "10103                106      2023-12-24  Week-52  Q4          2023   \n",
       "10104                104      2023-12-24  Week-52  Q4          2023   \n",
       "10105                107      2023-12-24  Week-52  Q4          2023   \n",
       "10106                 96      2023-12-24  Week-52  Q4          2023   \n",
       "10107                 43      2023-12-24  Week-52  Q4          2023   \n",
       "\n",
       "       Credit_Limit  ...  Education_Level  Marital_Status    state_cd  \\\n",
       "0            3544.0  ...       Uneducated          Single     Florida   \n",
       "1            3421.0  ...          Unknown         Married  New Jersey   \n",
       "2            8258.0  ...          Unknown         Married  New Jersey   \n",
       "3            1438.3  ...       Uneducated          Single    New York   \n",
       "4            3128.0  ...         Graduate          Single       Texas   \n",
       "...             ...  ...              ...             ...         ...   \n",
       "10103       34516.0  ...         Graduate          Single      Nevada   \n",
       "10104       13426.0  ...          Unknown         Unknown       Texas   \n",
       "10105        2346.0  ...         Graduate         Married    New York   \n",
       "10106        6648.0  ...         Graduate         Married       Texas   \n",
       "10107        2062.0  ...      High School         Married    New York   \n",
       "\n",
       "       Car_Owner House_Owner Personal_loan   Customer_Job  Income  \\\n",
       "0             no         yes            no    Businessman  202326   \n",
       "1             no          no            no  Selfemployeed    5225   \n",
       "2            yes          no            no  Selfemployeed   14235   \n",
       "3             no          no            no    Blue-Collar   45683   \n",
       "4            yes         yes            no    Businessman   59279   \n",
       "...          ...         ...           ...            ...     ...   \n",
       "10103        yes         yes           yes  Selfemployeed   44903   \n",
       "10104         no         yes            no  Selfemployeed   73655   \n",
       "10105        yes          no            no  Selfemployeed   62287   \n",
       "10106         no          no            no   White-Collar   21390   \n",
       "10107         no         yes            no  Selfemployeed   42187   \n",
       "\n",
       "       Cust_Satisfaction_Score     Month  \n",
       "0                            3   January  \n",
       "1                            2   January  \n",
       "2                            2   January  \n",
       "3                            1   January  \n",
       "4                            1   January  \n",
       "...                        ...       ...  \n",
       "10103                        5  December  \n",
       "10104                        3  December  \n",
       "10105                        3  December  \n",
       "10106                        4  December  \n",
       "10107                        4  December  \n",
       "\n",
       "[10108 rows x 31 columns]>"
      ]
     },
     "execution_count": 23,
     "metadata": {},
     "output_type": "execute_result"
    }
   ],
   "source": [
    "merged_df.info"
   ]
  },
  {
   "cell_type": "markdown",
   "id": "4992d03b-506f-4c2c-9643-5aa8b5021901",
   "metadata": {},
   "source": [
    "### Numerical variables"
   ]
  },
  {
   "cell_type": "code",
   "execution_count": 24,
   "id": "7c8c08c2-cf0c-4b24-8153-40f137760a77",
   "metadata": {},
   "outputs": [
    {
     "data": {
      "text/html": [
       "<div>\n",
       "<style scoped>\n",
       "    .dataframe tbody tr th:only-of-type {\n",
       "        vertical-align: middle;\n",
       "    }\n",
       "\n",
       "    .dataframe tbody tr th {\n",
       "        vertical-align: top;\n",
       "    }\n",
       "\n",
       "    .dataframe thead th {\n",
       "        text-align: right;\n",
       "    }\n",
       "</style>\n",
       "<table border=\"1\" class=\"dataframe\">\n",
       "  <thead>\n",
       "    <tr style=\"text-align: right;\">\n",
       "      <th></th>\n",
       "      <th>Card_Category</th>\n",
       "      <th>Week_Start_Date</th>\n",
       "      <th>Week_Num</th>\n",
       "      <th>Qtr</th>\n",
       "      <th>Use Chip</th>\n",
       "      <th>Exp Type</th>\n",
       "      <th>Gender</th>\n",
       "      <th>Education_Level</th>\n",
       "      <th>Marital_Status</th>\n",
       "      <th>state_cd</th>\n",
       "      <th>Car_Owner</th>\n",
       "      <th>House_Owner</th>\n",
       "      <th>Personal_loan</th>\n",
       "      <th>Customer_Job</th>\n",
       "      <th>Month</th>\n",
       "    </tr>\n",
       "  </thead>\n",
       "  <tbody>\n",
       "    <tr>\n",
       "      <th>count</th>\n",
       "      <td>10108</td>\n",
       "      <td>10108</td>\n",
       "      <td>10108</td>\n",
       "      <td>10108</td>\n",
       "      <td>10108</td>\n",
       "      <td>10108</td>\n",
       "      <td>10108</td>\n",
       "      <td>10108</td>\n",
       "      <td>10108</td>\n",
       "      <td>10108</td>\n",
       "      <td>10108</td>\n",
       "      <td>10108</td>\n",
       "      <td>10108</td>\n",
       "      <td>10108</td>\n",
       "      <td>10108</td>\n",
       "    </tr>\n",
       "    <tr>\n",
       "      <th>unique</th>\n",
       "      <td>4</td>\n",
       "      <td>52</td>\n",
       "      <td>52</td>\n",
       "      <td>4</td>\n",
       "      <td>3</td>\n",
       "      <td>6</td>\n",
       "      <td>2</td>\n",
       "      <td>6</td>\n",
       "      <td>3</td>\n",
       "      <td>28</td>\n",
       "      <td>2</td>\n",
       "      <td>2</td>\n",
       "      <td>2</td>\n",
       "      <td>6</td>\n",
       "      <td>12</td>\n",
       "    </tr>\n",
       "    <tr>\n",
       "      <th>top</th>\n",
       "      <td>Blue</td>\n",
       "      <td>2023-07-02</td>\n",
       "      <td>Week-27</td>\n",
       "      <td>Q2</td>\n",
       "      <td>swipe</td>\n",
       "      <td>Bills</td>\n",
       "      <td>Female</td>\n",
       "      <td>Graduate</td>\n",
       "      <td>Married</td>\n",
       "      <td>California</td>\n",
       "      <td>no</td>\n",
       "      <td>no</td>\n",
       "      <td>no</td>\n",
       "      <td>Selfemployeed</td>\n",
       "      <td>April</td>\n",
       "    </tr>\n",
       "    <tr>\n",
       "      <th>freq</th>\n",
       "      <td>9214</td>\n",
       "      <td>195</td>\n",
       "      <td>195</td>\n",
       "      <td>2535</td>\n",
       "      <td>7101</td>\n",
       "      <td>2970</td>\n",
       "      <td>5880</td>\n",
       "      <td>4134</td>\n",
       "      <td>5128</td>\n",
       "      <td>2468</td>\n",
       "      <td>6044</td>\n",
       "      <td>5390</td>\n",
       "      <td>8822</td>\n",
       "      <td>2575</td>\n",
       "      <td>975</td>\n",
       "    </tr>\n",
       "  </tbody>\n",
       "</table>\n",
       "</div>"
      ],
      "text/plain": [
       "       Card_Category Week_Start_Date Week_Num    Qtr Use Chip Exp Type  \\\n",
       "count          10108           10108    10108  10108    10108    10108   \n",
       "unique             4              52       52      4        3        6   \n",
       "top             Blue      2023-07-02  Week-27     Q2    swipe    Bills   \n",
       "freq            9214             195      195   2535     7101     2970   \n",
       "\n",
       "        Gender Education_Level Marital_Status    state_cd Car_Owner  \\\n",
       "count    10108           10108          10108       10108     10108   \n",
       "unique       2               6              3          28         2   \n",
       "top     Female        Graduate        Married  California        no   \n",
       "freq      5880            4134           5128        2468      6044   \n",
       "\n",
       "       House_Owner Personal_loan   Customer_Job  Month  \n",
       "count        10108         10108          10108  10108  \n",
       "unique           2             2              6     12  \n",
       "top             no            no  Selfemployeed  April  \n",
       "freq          5390          8822           2575    975  "
      ]
     },
     "execution_count": 24,
     "metadata": {},
     "output_type": "execute_result"
    }
   ],
   "source": [
    "merged_df.describe(include='object')"
   ]
  },
  {
   "cell_type": "code",
   "execution_count": 25,
   "id": "951e181f-319c-4975-9024-8e8bff264f6f",
   "metadata": {},
   "outputs": [
    {
     "data": {
      "text/plain": [
       "Gender\n",
       "Female    0.581717\n",
       "Male      0.418283\n",
       "Name: proportion, dtype: float64"
      ]
     },
     "execution_count": 25,
     "metadata": {},
     "output_type": "execute_result"
    }
   ],
   "source": [
    "merged_df['Gender'].value_counts(normalize=True)"
   ]
  },
  {
   "cell_type": "code",
   "execution_count": 26,
   "id": "4c05bc9e-8b61-4aa0-a170-104931146b00",
   "metadata": {},
   "outputs": [
    {
     "data": {
      "text/plain": [
       "Card_Category\n",
       "Blue        0.911555\n",
       "Silver      0.063217\n",
       "Gold        0.018599\n",
       "Platinum    0.006628\n",
       "Name: proportion, dtype: float64"
      ]
     },
     "execution_count": 26,
     "metadata": {},
     "output_type": "execute_result"
    }
   ],
   "source": [
    "merged_df['Card_Category'].value_counts(normalize=True)"
   ]
  },
  {
   "cell_type": "code",
   "execution_count": 27,
   "id": "efd41344-18b6-4107-b1b0-bbfa63f24c02",
   "metadata": {},
   "outputs": [
    {
     "data": {
      "text/plain": [
       "Marital_Status\n",
       "Married    0.507321\n",
       "Single     0.419074\n",
       "Unknown    0.073605\n",
       "Name: proportion, dtype: float64"
      ]
     },
     "execution_count": 27,
     "metadata": {},
     "output_type": "execute_result"
    }
   ],
   "source": [
    "merged_df['Marital_Status'].value_counts(normalize=True)"
   ]
  },
  {
   "cell_type": "markdown",
   "id": "46ed6382-6252-4dd3-a050-1b91b7bc0c55",
   "metadata": {},
   "source": [
    "###  Insights and Visuals"
   ]
  },
  {
   "cell_type": "code",
   "execution_count": 28,
   "id": "208532f2-6bdb-4a23-bede-a1d6247cf1fd",
   "metadata": {},
   "outputs": [
    {
     "name": "stdout",
     "output_type": "stream",
     "text": [
      "Average Income: 56976.1\n"
     ]
    }
   ],
   "source": [
    "average_income = merged_df[\"Income\"].mean()\n",
    "print(\"Average Income:\", round(average_income, 2))"
   ]
  },
  {
   "cell_type": "code",
   "execution_count": 29,
   "id": "a0ae5311-f3ae-4e7d-9a50-dd483111ffc2",
   "metadata": {},
   "outputs": [
    {
     "name": "stdout",
     "output_type": "stream",
     "text": [
      "Total Customers: 10108\n"
     ]
    }
   ],
   "source": [
    "total_customers = merged_df[\"Client_Num\"].nunique()\n",
    "print(\"Total Customers:\", total_customers)"
   ]
  },
  {
   "cell_type": "code",
   "execution_count": 30,
   "id": "18af4980-b570-437d-8fd9-58b5b3d7b68a",
   "metadata": {},
   "outputs": [
    {
     "name": "stdout",
     "output_type": "stream",
     "text": [
      "Average Credit Limit: 8635.64\n"
     ]
    }
   ],
   "source": [
    "avg_credit_limit = merged_df[\"Credit_Limit\"].mean()\n",
    "print(\"Average Credit Limit:\", round(avg_credit_limit, 2))"
   ]
  },
  {
   "cell_type": "code",
   "execution_count": 31,
   "id": "211f1f9c-5c64-4225-8d94-a5ba9c9b4f93",
   "metadata": {},
   "outputs": [
    {
     "name": "stdout",
     "output_type": "stream",
     "text": [
      "Average Satisfaction Score: 3.19\n"
     ]
    }
   ],
   "source": [
    "avg_score = merged_df[\"Cust_Satisfaction_Score\"].mean()\n",
    "print(\"Average Satisfaction Score:\", round(avg_score, 2))"
   ]
  },
  {
   "cell_type": "markdown",
   "id": "0028d6b1-ed4c-4bae-aeb1-5348a0d6e56c",
   "metadata": {},
   "source": [
    "### `Gender` Distribution"
   ]
  },
  {
   "cell_type": "code",
   "execution_count": 32,
   "id": "5f587327-5105-4957-8a46-b941469b4712",
   "metadata": {},
   "outputs": [
    {
     "data": {
      "application/vnd.plotly.v1+json": {
       "config": {
        "plotlyServerURL": "https://plot.ly"
       },
       "data": [
        {
         "domain": {
          "x": [
           0,
           1
          ],
          "y": [
           0,
           1
          ]
         },
         "hovertemplate": "Gender=%{label}<br>count=%{value}<extra></extra>",
         "labels": [
          "Female",
          "Male"
         ],
         "legendgroup": "",
         "name": "",
         "showlegend": true,
         "textposition": "inside",
         "texttemplate": "%{percent:.2%}",
         "type": "pie",
         "values": {
          "_inputArray": {
           "0": 5880,
           "1": 4228,
           "bdata": "+BaEEA==",
           "dtype": "i2",
           "shape": "2"
          },
          "bdata": "+BaEEA==",
          "dtype": "i2"
         }
        }
       ],
       "layout": {
        "autosize": true,
        "legend": {
         "title": {
          "text": "Gender"
         },
         "tracegroupgap": 0
        },
        "paper_bgcolor": "rgba(0, 0, 0, 0)",
        "piecolorway": [
         "#003399 ",
         "#3366cc ",
         "#dbe4f0 "
        ],
        "plot_bgcolor": "rgba(0, 0, 0, 0)",
        "template": {
         "data": {
          "pie": [
           {
            "automargin": true,
            "type": "pie"
           }
          ],
          "scatter": [
           {
            "line": {
             "width": 3
            },
            "marker": {
             "size": 9
            },
            "type": "scatter"
           }
          ],
          "scatter3d": [
           {
            "line": {
             "width": 3
            },
            "marker": {
             "size": 9
            },
            "type": "scatter3d"
           }
          ],
          "scattergeo": [
           {
            "line": {
             "width": 3
            },
            "marker": {
             "size": 9
            },
            "type": "scattergeo"
           }
          ],
          "scattergl": [
           {
            "line": {
             "width": 3
            },
            "marker": {
             "size": 9
            },
            "type": "scattergl"
           }
          ],
          "scatterpolar": [
           {
            "line": {
             "width": 3
            },
            "marker": {
             "size": 9
            },
            "type": "scatterpolar"
           }
          ],
          "scatterpolargl": [
           {
            "line": {
             "width": 3
            },
            "marker": {
             "size": 9
            },
            "type": "scatterpolargl"
           }
          ],
          "scatterternary": [
           {
            "line": {
             "width": 3
            },
            "marker": {
             "size": 9
            },
            "type": "scatterternary"
           }
          ],
          "table": [
           {
            "cells": {
             "height": 30
            },
            "header": {
             "height": 36
            },
            "type": "table"
           }
          ]
         },
         "layout": {
          "font": {
           "size": 18
          },
          "xaxis": {
           "title": {
            "standoff": 15
           }
          },
          "yaxis": {
           "title": {
            "standoff": 15
           }
          }
         }
        },
        "title": {
         "text": "Gender Distribution"
        }
       }
      },
      "image/png": "[encoded data removed]"
     },
     "metadata": {},
     "output_type": "display_data"
    }
   ],
   "source": [
    "gender_dist = merged_df['Gender'].value_counts().reset_index()\n",
    "gender_dist.columns = ['Gender', 'count']\n",
    "\n",
    "fig = px.pie(gender_dist, names='Gender', values='count', title=\"Gender Distribution\",\n",
    "             color_discrete_sequence=[\"#003399 \", \"#3366cc \", \"#dbe4f0 \"])\n",
    "\n",
    "fig.update_layout(\n",
    "    template = \"presentation\",\n",
    "    legend_title = dict(text=\"Gender\"),\n",
    "    paper_bgcolor=\"rgba(0, 0, 0, 0)\",\n",
    "    plot_bgcolor=\"rgba(0, 0, 0, 0)\"\n",
    ")\n",
    "\n",
    "fig.update_traces(texttemplate=\"%{percent:.2%}\", textposition=\"inside\")\n",
    "\n",
    "fig.show()\n",
    "\n",
    "fig.write_image(os.path.join(results_dir, 'Gender_Distribution_Pie_Chart.jpg'))\n",
    "fig.write_image(os.path.join(results_dir, 'Gender_Distribution_Pie_Chart.png'))\n",
    "fig.write_html(os.path.join(results_dir, 'Gender_Distribution_Pie_Chart.html'))"
   ]
  },
  {
   "cell_type": "markdown",
   "id": "2073639b-33f5-4c34-b942-b061497401da",
   "metadata": {},
   "source": [
    "### Income by `Education Level`"
   ]
  },
  {
   "cell_type": "code",
   "execution_count": 33,
   "id": "1f6c71ae-7c61-4d22-84f5-5f1791560a4f",
   "metadata": {},
   "outputs": [
    {
     "data": {
      "text/html": [
       "<div>\n",
       "<style scoped>\n",
       "    .dataframe tbody tr th:only-of-type {\n",
       "        vertical-align: middle;\n",
       "    }\n",
       "\n",
       "    .dataframe tbody tr th {\n",
       "        vertical-align: top;\n",
       "    }\n",
       "\n",
       "    .dataframe thead th {\n",
       "        text-align: right;\n",
       "    }\n",
       "</style>\n",
       "<table border=\"1\" class=\"dataframe\">\n",
       "  <thead>\n",
       "    <tr style=\"text-align: right;\">\n",
       "      <th></th>\n",
       "      <th>Education_Level</th>\n",
       "      <th>average_income</th>\n",
       "    </tr>\n",
       "  </thead>\n",
       "  <tbody>\n",
       "    <tr>\n",
       "      <th>5</th>\n",
       "      <td>Unknown</td>\n",
       "      <td>58040.557096</td>\n",
       "    </tr>\n",
       "    <tr>\n",
       "      <th>2</th>\n",
       "      <td>High School</td>\n",
       "      <td>57771.664510</td>\n",
       "    </tr>\n",
       "    <tr>\n",
       "      <th>4</th>\n",
       "      <td>Uneducated</td>\n",
       "      <td>57364.834794</td>\n",
       "    </tr>\n",
       "    <tr>\n",
       "      <th>3</th>\n",
       "      <td>Post-Graduate</td>\n",
       "      <td>56640.678295</td>\n",
       "    </tr>\n",
       "    <tr>\n",
       "      <th>1</th>\n",
       "      <td>Graduate</td>\n",
       "      <td>56254.135462</td>\n",
       "    </tr>\n",
       "    <tr>\n",
       "      <th>0</th>\n",
       "      <td>Doctorate</td>\n",
       "      <td>55579.789357</td>\n",
       "    </tr>\n",
       "  </tbody>\n",
       "</table>\n",
       "</div>"
      ],
      "text/plain": [
       "  Education_Level  average_income\n",
       "5         Unknown    58040.557096\n",
       "2     High School    57771.664510\n",
       "4      Uneducated    57364.834794\n",
       "3   Post-Graduate    56640.678295\n",
       "1        Graduate    56254.135462\n",
       "0       Doctorate    55579.789357"
      ]
     },
     "execution_count": 33,
     "metadata": {},
     "output_type": "execute_result"
    }
   ],
   "source": [
    "merged_df_income_edlevel = merged_df.groupby('Education_Level')['Income'].mean().reset_index(name='average_income').sort_values(by='average_income', ascending=False)\n",
    "merged_df_income_edlevel"
   ]
  },
  {
   "cell_type": "code",
   "execution_count": 34,
   "id": "a0929e78-87fa-4e13-9ac3-817310b59505",
   "metadata": {},
   "outputs": [
    {
     "data": {
      "text/html": [
       "<div>\n",
       "<style scoped>\n",
       "    .dataframe tbody tr th:only-of-type {\n",
       "        vertical-align: middle;\n",
       "    }\n",
       "\n",
       "    .dataframe tbody tr th {\n",
       "        vertical-align: top;\n",
       "    }\n",
       "\n",
       "    .dataframe thead th {\n",
       "        text-align: right;\n",
       "    }\n",
       "</style>\n",
       "<table border=\"1\" class=\"dataframe\">\n",
       "  <thead>\n",
       "    <tr style=\"text-align: right;\">\n",
       "      <th></th>\n",
       "      <th>Education_Level</th>\n",
       "      <th>average_income</th>\n",
       "      <th>percentage</th>\n",
       "    </tr>\n",
       "  </thead>\n",
       "  <tbody>\n",
       "    <tr>\n",
       "      <th>5</th>\n",
       "      <td>Unknown</td>\n",
       "      <td>58040.557096</td>\n",
       "      <td>16.988226</td>\n",
       "    </tr>\n",
       "    <tr>\n",
       "      <th>2</th>\n",
       "      <td>High School</td>\n",
       "      <td>57771.664510</td>\n",
       "      <td>16.909523</td>\n",
       "    </tr>\n",
       "    <tr>\n",
       "      <th>4</th>\n",
       "      <td>Uneducated</td>\n",
       "      <td>57364.834794</td>\n",
       "      <td>16.790445</td>\n",
       "    </tr>\n",
       "    <tr>\n",
       "      <th>3</th>\n",
       "      <td>Post-Graduate</td>\n",
       "      <td>56640.678295</td>\n",
       "      <td>16.578488</td>\n",
       "    </tr>\n",
       "    <tr>\n",
       "      <th>1</th>\n",
       "      <td>Graduate</td>\n",
       "      <td>56254.135462</td>\n",
       "      <td>16.465348</td>\n",
       "    </tr>\n",
       "    <tr>\n",
       "      <th>0</th>\n",
       "      <td>Doctorate</td>\n",
       "      <td>55579.789357</td>\n",
       "      <td>16.267970</td>\n",
       "    </tr>\n",
       "  </tbody>\n",
       "</table>\n",
       "</div>"
      ],
      "text/plain": [
       "  Education_Level  average_income  percentage\n",
       "5         Unknown    58040.557096   16.988226\n",
       "2     High School    57771.664510   16.909523\n",
       "4      Uneducated    57364.834794   16.790445\n",
       "3   Post-Graduate    56640.678295   16.578488\n",
       "1        Graduate    56254.135462   16.465348\n",
       "0       Doctorate    55579.789357   16.267970"
      ]
     },
     "execution_count": 34,
     "metadata": {},
     "output_type": "execute_result"
    }
   ],
   "source": [
    "total_income = merged_df_income_edlevel['average_income'].sum()\n",
    "merged_df_income_edlevel['percentage'] = (merged_df_income_edlevel['average_income'] / total_income) * 100\n",
    "merged_df_income_edlevel = merged_df_income_edlevel.sort_values(by='average_income', ascending=False)\n",
    "merged_df_income_edlevel"
   ]
  },
  {
   "cell_type": "code",
   "execution_count": 35,
   "id": "0270b7f4-e596-483b-839c-efed5248bdab",
   "metadata": {},
   "outputs": [
    {
     "data": {
      "application/vnd.plotly.v1+json": {
       "config": {
        "plotlyServerURL": "https://plot.ly"
       },
       "data": [
        {
         "alignmentgroup": "True",
         "hovertemplate": "Education_Level=%{x}<br>percentage=%{text}<extra></extra>",
         "legendgroup": "",
         "marker": {
          "color": "#002366",
          "line": {
           "width": 0
          },
          "pattern": {
           "shape": ""
          }
         },
         "name": "",
         "offsetgroup": "",
         "orientation": "v",
         "showlegend": false,
         "text": {
          "_inputArray": {
           "0": 16.988226305818568,
           "1": 16.909522579811128,
           "2": 16.790445237716543,
           "3": 16.578487683992467,
           "4": 16.465348226949587,
           "5": 16.267969965711707,
           "bdata": "o4kwZvz8MEApQ8d41ugwQIFFfZ5ayjBA7eLTxBeUMEAEALgPIXcwQMIK/62ZRDBA",
           "dtype": "f8",
           "shape": "6"
          },
          "bdata": "o4kwZvz8MEApQ8d41ugwQIFFfZ5ayjBA7eLTxBeUMEAEALgPIXcwQMIK/62ZRDBA",
          "dtype": "f8"
         },
         "textposition": "outside",
         "texttemplate": "%{text:.2f}%",
         "type": "bar",
         "x": [
          "Unknown",
          "High School",
          "Uneducated",
          "Post-Graduate",
          "Graduate",
          "Doctorate"
         ],
         "xaxis": "x",
         "y": {
          "_inputArray": {
           "0": 16.988226305818568,
           "1": 16.909522579811128,
           "2": 16.790445237716543,
           "3": 16.578487683992467,
           "4": 16.465348226949587,
           "5": 16.267969965711707,
           "bdata": "o4kwZvz8MEApQ8d41ugwQIFFfZ5ayjBA7eLTxBeUMEAEALgPIXcwQMIK/62ZRDBA",
           "dtype": "f8",
           "shape": "6"
          },
          "bdata": "o4kwZvz8MEApQ8d41ugwQIFFfZ5ayjBA7eLTxBeUMEAEALgPIXcwQMIK/62ZRDBA",
          "dtype": "f8"
         },
         "yaxis": "y"
        }
       ],
       "layout": {
        "barmode": "group",
        "height": 600,
        "legend": {
         "tracegroupgap": 0
        },
        "paper_bgcolor": "rgba(0, 0, 0, 0)",
        "plot_bgcolor": "rgba(0, 0, 0, 0)",
        "template": {
         "data": {
          "pie": [
           {
            "automargin": true,
            "type": "pie"
           }
          ],
          "scatter": [
           {
            "line": {
             "width": 3
            },
            "marker": {
             "size": 9
            },
            "type": "scatter"
           }
          ],
          "scatter3d": [
           {
            "line": {
             "width": 3
            },
            "marker": {
             "size": 9
            },
            "type": "scatter3d"
           }
          ],
          "scattergeo": [
           {
            "line": {
             "width": 3
            },
            "marker": {
             "size": 9
            },
            "type": "scattergeo"
           }
          ],
          "scattergl": [
           {
            "line": {
             "width": 3
            },
            "marker": {
             "size": 9
            },
            "type": "scattergl"
           }
          ],
          "scatterpolar": [
           {
            "line": {
             "width": 3
            },
            "marker": {
             "size": 9
            },
            "type": "scatterpolar"
           }
          ],
          "scatterpolargl": [
           {
            "line": {
             "width": 3
            },
            "marker": {
             "size": 9
            },
            "type": "scatterpolargl"
           }
          ],
          "scatterternary": [
           {
            "line": {
             "width": 3
            },
            "marker": {
             "size": 9
            },
            "type": "scatterternary"
           }
          ],
          "table": [
           {
            "cells": {
             "height": 30
            },
            "header": {
             "height": 36
            },
            "type": "table"
           }
          ]
         },
         "layout": {
          "font": {
           "size": 18
          },
          "xaxis": {
           "title": {
            "standoff": 15
           }
          },
          "yaxis": {
           "title": {
            "standoff": 15
           }
          }
         }
        },
        "title": {
         "text": "Average Income Distribution by Education Level (%)"
        },
        "width": 1000,
        "xaxis": {
         "anchor": "y",
         "autorange": true,
         "domain": [
          0,
          1
         ],
         "range": [
          -0.5,
          5.5
         ],
         "showgrid": false,
         "title": {
          "text": "Education Level"
         },
         "type": "category"
        },
        "yaxis": {
         "anchor": "x",
         "autorange": true,
         "domain": [
          0,
          1
         ],
         "range": [
          0,
          17.88234347980902
         ],
         "showgrid": false,
         "title": {
          "text": "Percentage of Total Average Income"
         },
         "type": "linear"
        }
       }
      }
     },
     "metadata": {},
     "output_type": "display_data"
    }
   ],
   "source": [
    "fig = px.bar(\n",
    "    merged_df_income_edlevel,\n",
    "    x='Education_Level',\n",
    "    y='percentage',\n",
    "    title='Average Income Distribution by Education Level (%)',\n",
    "    barmode='group',\n",
    "    height=600,\n",
    "    width=1000,\n",
    "    color_discrete_sequence=['#002366'], \n",
    "    text='percentage'\n",
    ")\n",
    "\n",
    "fig.update_layout(\n",
    "    template=\"presentation\",\n",
    "    xaxis_title=\"Education Level\",\n",
    "    yaxis_title=\"Percentage of Total Average Income\",\n",
    "    legend_title_text=None,\n",
    "    paper_bgcolor = \"rgba(0, 0, 0, 0)\",\n",
    "    plot_bgcolor = \"rgba(0, 0, 0, 0)\",\n",
    "    xaxis=dict(showgrid=False),\n",
    "    yaxis=dict(showgrid=False)\n",
    ")\n",
    "\n",
    "fig.update_traces(\n",
    "    texttemplate=\"%{text:.2f}%\",\n",
    "    textposition=\"outside\",\n",
    "    marker_line_width=0  \n",
    ")\n",
    "\n",
    "fig.write_image(os.path.join(results_dir, 'Avg_Income_by_EdLevel.jpg'))\n",
    "fig.write_image(os.path.join(results_dir, 'Avg_Income_by_EdLevel.png'))\n",
    "fig.write_html(os.path.join(results_dir, 'Avg_Income_by_EdLevel.html'))\n",
    "\n",
    "fig.show()"
   ]
  },
  {
   "cell_type": "markdown",
   "id": "91c5aaf9-c94f-4055-89fb-d257a5964309",
   "metadata": {},
   "source": [
    "### `Customers` by `Marital Status`"
   ]
  },
  {
   "cell_type": "code",
   "execution_count": 36,
   "id": "8be67933-ab90-40ee-961d-9e8aaf4bb2f6",
   "metadata": {},
   "outputs": [
    {
     "data": {
      "text/html": [
       "<div>\n",
       "<style scoped>\n",
       "    .dataframe tbody tr th:only-of-type {\n",
       "        vertical-align: middle;\n",
       "    }\n",
       "\n",
       "    .dataframe tbody tr th {\n",
       "        vertical-align: top;\n",
       "    }\n",
       "\n",
       "    .dataframe thead th {\n",
       "        text-align: right;\n",
       "    }\n",
       "</style>\n",
       "<table border=\"1\" class=\"dataframe\">\n",
       "  <thead>\n",
       "    <tr style=\"text-align: right;\">\n",
       "      <th></th>\n",
       "      <th>Marital_Status</th>\n",
       "      <th>total_customers</th>\n",
       "    </tr>\n",
       "  </thead>\n",
       "  <tbody>\n",
       "    <tr>\n",
       "      <th>0</th>\n",
       "      <td>Married</td>\n",
       "      <td>5128</td>\n",
       "    </tr>\n",
       "    <tr>\n",
       "      <th>1</th>\n",
       "      <td>Single</td>\n",
       "      <td>4236</td>\n",
       "    </tr>\n",
       "    <tr>\n",
       "      <th>2</th>\n",
       "      <td>Unknown</td>\n",
       "      <td>744</td>\n",
       "    </tr>\n",
       "  </tbody>\n",
       "</table>\n",
       "</div>"
      ],
      "text/plain": [
       "  Marital_Status  total_customers\n",
       "0        Married             5128\n",
       "1         Single             4236\n",
       "2        Unknown              744"
      ]
     },
     "execution_count": 36,
     "metadata": {},
     "output_type": "execute_result"
    }
   ],
   "source": [
    "marital_status_df = merged_df['Marital_Status'].value_counts().reset_index()\n",
    "marital_status_df.columns = ['Marital_Status', 'total_customers']\n",
    "marital_status_df = marital_status_df.sort_values(by='total_customers', ascending=False)\n",
    "marital_status_df"
   ]
  },
  {
   "cell_type": "code",
   "execution_count": 37,
   "id": "dc0dbb7e-4860-4ea7-bbc2-6915c294de77",
   "metadata": {},
   "outputs": [
    {
     "data": {
      "text/html": [
       "<div>\n",
       "<style scoped>\n",
       "    .dataframe tbody tr th:only-of-type {\n",
       "        vertical-align: middle;\n",
       "    }\n",
       "\n",
       "    .dataframe tbody tr th {\n",
       "        vertical-align: top;\n",
       "    }\n",
       "\n",
       "    .dataframe thead th {\n",
       "        text-align: right;\n",
       "    }\n",
       "</style>\n",
       "<table border=\"1\" class=\"dataframe\">\n",
       "  <thead>\n",
       "    <tr style=\"text-align: right;\">\n",
       "      <th></th>\n",
       "      <th>Marital_Status</th>\n",
       "      <th>total_customers</th>\n",
       "      <th>percentage</th>\n",
       "    </tr>\n",
       "  </thead>\n",
       "  <tbody>\n",
       "    <tr>\n",
       "      <th>0</th>\n",
       "      <td>Married</td>\n",
       "      <td>5128</td>\n",
       "      <td>50.732093</td>\n",
       "    </tr>\n",
       "    <tr>\n",
       "      <th>1</th>\n",
       "      <td>Single</td>\n",
       "      <td>4236</td>\n",
       "      <td>41.907400</td>\n",
       "    </tr>\n",
       "    <tr>\n",
       "      <th>2</th>\n",
       "      <td>Unknown</td>\n",
       "      <td>744</td>\n",
       "      <td>7.360507</td>\n",
       "    </tr>\n",
       "  </tbody>\n",
       "</table>\n",
       "</div>"
      ],
      "text/plain": [
       "  Marital_Status  total_customers  percentage\n",
       "0        Married             5128   50.732093\n",
       "1         Single             4236   41.907400\n",
       "2        Unknown              744    7.360507"
      ]
     },
     "execution_count": 37,
     "metadata": {},
     "output_type": "execute_result"
    }
   ],
   "source": [
    "total = marital_status_df['total_customers'].sum()\n",
    "marital_status_df['percentage'] = (marital_status_df['total_customers'] / total) * 100\n",
    "marital_status_df"
   ]
  },
  {
   "cell_type": "code",
   "execution_count": 38,
   "id": "c53115d8-8ffe-498e-9047-b74de686896e",
   "metadata": {},
   "outputs": [
    {
     "data": {
      "application/vnd.plotly.v1+json": {
       "config": {
        "plotlyServerURL": "https://plot.ly"
       },
       "data": [
        {
         "hovertemplate": "percentage=%{text}<br>Marital_Status=%{y}<extra></extra>",
         "legendgroup": "",
         "marker": {
          "color": "#002366",
          "line": {
           "width": 0
          },
          "pattern": {
           "shape": ""
          }
         },
         "name": "",
         "orientation": "h",
         "showlegend": false,
         "text": {
          "_inputArray": {
           "0": 50.73209339137317,
           "1": 41.907400079145226,
           "2": 7.360506529481599,
           "bdata": "Ysh6PLVdSUCFKJCvJfREQMJ4qJ8ocR1A",
           "dtype": "f8",
           "shape": "3"
          },
          "bdata": "Ysh6PLVdSUCFKJCvJfREQMJ4qJ8ocR1A",
          "dtype": "f8"
         },
         "textposition": "outside",
         "texttemplate": "%{text:.2f}%",
         "type": "bar",
         "x": {
          "_inputArray": {
           "0": 50.73209339137317,
           "1": 41.907400079145226,
           "2": 7.360506529481599,
           "bdata": "Ysh6PLVdSUCFKJCvJfREQMJ4qJ8ocR1A",
           "dtype": "f8",
           "shape": "3"
          },
          "bdata": "Ysh6PLVdSUCFKJCvJfREQMJ4qJ8ocR1A",
          "dtype": "f8"
         },
         "xaxis": "x",
         "y": [
          "Married",
          "Single",
          "Unknown"
         ],
         "yaxis": "y"
        }
       ],
       "layout": {
        "barmode": "relative",
        "height": 600,
        "legend": {
         "tracegroupgap": 0
        },
        "paper_bgcolor": "rgba(0, 0, 0, 0)",
        "plot_bgcolor": "rgba(0, 0, 0, 0)",
        "template": {
         "data": {
          "pie": [
           {
            "automargin": true,
            "type": "pie"
           }
          ],
          "scatter": [
           {
            "line": {
             "width": 3
            },
            "marker": {
             "size": 9
            },
            "type": "scatter"
           }
          ],
          "scatter3d": [
           {
            "line": {
             "width": 3
            },
            "marker": {
             "size": 9
            },
            "type": "scatter3d"
           }
          ],
          "scattergeo": [
           {
            "line": {
             "width": 3
            },
            "marker": {
             "size": 9
            },
            "type": "scattergeo"
           }
          ],
          "scattergl": [
           {
            "line": {
             "width": 3
            },
            "marker": {
             "size": 9
            },
            "type": "scattergl"
           }
          ],
          "scatterpolar": [
           {
            "line": {
             "width": 3
            },
            "marker": {
             "size": 9
            },
            "type": "scatterpolar"
           }
          ],
          "scatterpolargl": [
           {
            "line": {
             "width": 3
            },
            "marker": {
             "size": 9
            },
            "type": "scatterpolargl"
           }
          ],
          "scatterternary": [
           {
            "line": {
             "width": 3
            },
            "marker": {
             "size": 9
            },
            "type": "scatterternary"
           }
          ],
          "table": [
           {
            "cells": {
             "height": 30
            },
            "header": {
             "height": 36
            },
            "type": "table"
           }
          ]
         },
         "layout": {
          "font": {
           "size": 18
          },
          "xaxis": {
           "title": {
            "standoff": 15
           }
          },
          "yaxis": {
           "title": {
            "standoff": 15
           }
          }
         }
        },
        "title": {
         "text": "Customer Distribution by Marital Status (%)"
        },
        "width": 900,
        "xaxis": {
         "anchor": "y",
         "autorange": true,
         "domain": [
          0,
          1
         ],
         "range": [
          0,
          53.402203569866494
         ],
         "showgrid": false,
         "title": {
          "text": "Percentage of Customers"
         },
         "type": "linear"
        },
        "yaxis": {
         "anchor": "x",
         "autorange": true,
         "domain": [
          0,
          1
         ],
         "range": [
          -0.5,
          2.5
         ],
         "showgrid": false,
         "title": {
          "text": "Marital Status"
         },
         "type": "category"
        }
       }
      }
     },
     "metadata": {},
     "output_type": "display_data"
    }
   ],
   "source": [
    "fig = px.bar(\n",
    "    marital_status_df,\n",
    "    y='Marital_Status',\n",
    "    x='percentage',\n",
    "    orientation='h',\n",
    "    title='Customer Distribution by Marital Status (%)',\n",
    "    color_discrete_sequence=['#002366'],\n",
    "    text = 'percentage',\n",
    "    height=600,\n",
    "    width=900\n",
    ")\n",
    "\n",
    "fig.update_layout(\n",
    "    template = \"presentation\",\n",
    "    xaxis_title=\"Percentage of Customers\",\n",
    "    yaxis_title=\"Marital Status\",\n",
    "    legend_title_text=None,\n",
    "    paper_bgcolor=\"rgba(0, 0, 0, 0)\",\n",
    "    plot_bgcolor=\"rgba(0, 0, 0, 0)\",\n",
    "    xaxis=dict(showgrid=False),\n",
    "    yaxis=dict(showgrid=False)\n",
    ")\n",
    "\n",
    "fig.update_traces(\n",
    "    texttemplate=\"%{text:.2f}%\",\n",
    "    textposition=\"outside\",\n",
    "    marker_line_width=0\n",
    ")\n",
    "\n",
    "fig.write_image(os.path.join(results_dir, 'Customers_by_Marital_Status.jpg'))\n",
    "fig.write_image(os.path.join(results_dir, 'Customers_by_Marital_Status.png'))\n",
    "fig.write_html(os.path.join(results_dir, 'Customers_by_Marital_Status.html'))\n",
    "\n",
    "fig.show()"
   ]
  },
  {
   "cell_type": "markdown",
   "id": "baf8c15c-ca3b-4f71-b8d1-bdec17026622",
   "metadata": {},
   "source": [
    "### Average `Credit Limit` by `Card Type`"
   ]
  },
  {
   "cell_type": "code",
   "execution_count": 39,
   "id": "0449378f-69b3-4fa8-9617-63654d5d3460",
   "metadata": {},
   "outputs": [
    {
     "data": {
      "text/html": [
       "<div>\n",
       "<style scoped>\n",
       "    .dataframe tbody tr th:only-of-type {\n",
       "        vertical-align: middle;\n",
       "    }\n",
       "\n",
       "    .dataframe tbody tr th {\n",
       "        vertical-align: top;\n",
       "    }\n",
       "\n",
       "    .dataframe thead th {\n",
       "        text-align: right;\n",
       "    }\n",
       "</style>\n",
       "<table border=\"1\" class=\"dataframe\">\n",
       "  <thead>\n",
       "    <tr style=\"text-align: right;\">\n",
       "      <th></th>\n",
       "      <th>Card_Category</th>\n",
       "      <th>average_credit_limit</th>\n",
       "    </tr>\n",
       "  </thead>\n",
       "  <tbody>\n",
       "    <tr>\n",
       "      <th>3</th>\n",
       "      <td>Silver</td>\n",
       "      <td>23391.641628</td>\n",
       "    </tr>\n",
       "    <tr>\n",
       "      <th>1</th>\n",
       "      <td>Gold</td>\n",
       "      <td>21857.835106</td>\n",
       "    </tr>\n",
       "    <tr>\n",
       "      <th>2</th>\n",
       "      <td>Platinum</td>\n",
       "      <td>16455.134328</td>\n",
       "    </tr>\n",
       "    <tr>\n",
       "      <th>0</th>\n",
       "      <td>Blue</td>\n",
       "      <td>7285.657858</td>\n",
       "    </tr>\n",
       "  </tbody>\n",
       "</table>\n",
       "</div>"
      ],
      "text/plain": [
       "  Card_Category  average_credit_limit\n",
       "3        Silver          23391.641628\n",
       "1          Gold          21857.835106\n",
       "2      Platinum          16455.134328\n",
       "0          Blue           7285.657858"
      ]
     },
     "execution_count": 39,
     "metadata": {},
     "output_type": "execute_result"
    }
   ],
   "source": [
    "avg_credit_by_card = merged_df.groupby('Card_Category')['Credit_Limit'].mean().reset_index(name='average_credit_limit')\n",
    "avg_credit_by_card = avg_credit_by_card.sort_values(by='average_credit_limit', ascending=False)\n",
    "avg_credit_by_card"
   ]
  },
  {
   "cell_type": "code",
   "execution_count": 40,
   "id": "facf2ec9-a389-4b5e-b7f8-35b7b58456b6",
   "metadata": {},
   "outputs": [
    {
     "data": {
      "text/html": [
       "<div>\n",
       "<style scoped>\n",
       "    .dataframe tbody tr th:only-of-type {\n",
       "        vertical-align: middle;\n",
       "    }\n",
       "\n",
       "    .dataframe tbody tr th {\n",
       "        vertical-align: top;\n",
       "    }\n",
       "\n",
       "    .dataframe thead th {\n",
       "        text-align: right;\n",
       "    }\n",
       "</style>\n",
       "<table border=\"1\" class=\"dataframe\">\n",
       "  <thead>\n",
       "    <tr style=\"text-align: right;\">\n",
       "      <th></th>\n",
       "      <th>Card_Category</th>\n",
       "      <th>average_credit_limit</th>\n",
       "      <th>percentage</th>\n",
       "    </tr>\n",
       "  </thead>\n",
       "  <tbody>\n",
       "    <tr>\n",
       "      <th>3</th>\n",
       "      <td>Silver</td>\n",
       "      <td>23391.641628</td>\n",
       "      <td>33.905712</td>\n",
       "    </tr>\n",
       "    <tr>\n",
       "      <th>1</th>\n",
       "      <td>Gold</td>\n",
       "      <td>21857.835106</td>\n",
       "      <td>31.682490</td>\n",
       "    </tr>\n",
       "    <tr>\n",
       "      <th>2</th>\n",
       "      <td>Platinum</td>\n",
       "      <td>16455.134328</td>\n",
       "      <td>23.851385</td>\n",
       "    </tr>\n",
       "    <tr>\n",
       "      <th>0</th>\n",
       "      <td>Blue</td>\n",
       "      <td>7285.657858</td>\n",
       "      <td>10.560414</td>\n",
       "    </tr>\n",
       "  </tbody>\n",
       "</table>\n",
       "</div>"
      ],
      "text/plain": [
       "  Card_Category  average_credit_limit  percentage\n",
       "3        Silver          23391.641628   33.905712\n",
       "1          Gold          21857.835106   31.682490\n",
       "2      Platinum          16455.134328   23.851385\n",
       "0          Blue           7285.657858   10.560414"
      ]
     },
     "execution_count": 40,
     "metadata": {},
     "output_type": "execute_result"
    }
   ],
   "source": [
    "total_credit = avg_credit_by_card['average_credit_limit'].sum()\n",
    "avg_credit_by_card['percentage'] = (avg_credit_by_card['average_credit_limit'] / total_credit) * 100\n",
    "avg_credit_by_card"
   ]
  },
  {
   "cell_type": "code",
   "execution_count": 41,
   "id": "27109167-6f79-4557-bfa2-da363e3bfb61",
   "metadata": {},
   "outputs": [
    {
     "data": {
      "application/vnd.plotly.v1+json": {
       "config": {
        "plotlyServerURL": "https://plot.ly"
       },
       "data": [
        {
         "hovertemplate": "Card_Category=%{x}<br>percentage=%{text}<extra></extra>",
         "legendgroup": "",
         "marker": {
          "color": "#002366",
          "line": {
           "width": 0
          },
          "pattern": {
           "shape": ""
          }
         },
         "name": "",
         "orientation": "v",
         "showlegend": false,
         "text": {
          "_inputArray": {
           "0": 33.90571162246685,
           "1": 31.68249007952574,
           "2": 23.85138452999078,
           "3": 10.56041376801662,
           "bdata": "Fg3DW+7zQEBRaHurt64/QHihKFb02TdAErirje4eJUA=",
           "dtype": "f8",
           "shape": "4"
          },
          "bdata": "Fg3DW+7zQEBRaHurt64/QHihKFb02TdAErirje4eJUA=",
          "dtype": "f8"
         },
         "textposition": "outside",
         "texttemplate": "%{text:.2f}%",
         "type": "bar",
         "x": [
          "Silver",
          "Gold",
          "Platinum",
          "Blue"
         ],
         "xaxis": "x",
         "y": {
          "_inputArray": {
           "0": 33.90571162246685,
           "1": 31.68249007952574,
           "2": 23.85138452999078,
           "3": 10.56041376801662,
           "bdata": "Fg3DW+7zQEBRaHurt64/QHihKFb02TdAErirje4eJUA=",
           "dtype": "f8",
           "shape": "4"
          },
          "bdata": "Fg3DW+7zQEBRaHurt64/QHihKFb02TdAErirje4eJUA=",
          "dtype": "f8"
         },
         "yaxis": "y"
        }
       ],
       "layout": {
        "barmode": "relative",
        "height": 600,
        "legend": {
         "tracegroupgap": 0
        },
        "paper_bgcolor": "rgba(0, 0, 0, 0)",
        "plot_bgcolor": "rgba(0, 0, 0, 0)",
        "template": {
         "data": {
          "pie": [
           {
            "automargin": true,
            "type": "pie"
           }
          ],
          "scatter": [
           {
            "line": {
             "width": 3
            },
            "marker": {
             "size": 9
            },
            "type": "scatter"
           }
          ],
          "scatter3d": [
           {
            "line": {
             "width": 3
            },
            "marker": {
             "size": 9
            },
            "type": "scatter3d"
           }
          ],
          "scattergeo": [
           {
            "line": {
             "width": 3
            },
            "marker": {
             "size": 9
            },
            "type": "scattergeo"
           }
          ],
          "scattergl": [
           {
            "line": {
             "width": 3
            },
            "marker": {
             "size": 9
            },
            "type": "scattergl"
           }
          ],
          "scatterpolar": [
           {
            "line": {
             "width": 3
            },
            "marker": {
             "size": 9
            },
            "type": "scatterpolar"
           }
          ],
          "scatterpolargl": [
           {
            "line": {
             "width": 3
            },
            "marker": {
             "size": 9
            },
            "type": "scatterpolargl"
           }
          ],
          "scatterternary": [
           {
            "line": {
             "width": 3
            },
            "marker": {
             "size": 9
            },
            "type": "scatterternary"
           }
          ],
          "table": [
           {
            "cells": {
             "height": 30
            },
            "header": {
             "height": 36
            },
            "type": "table"
           }
          ]
         },
         "layout": {
          "font": {
           "size": 18
          },
          "xaxis": {
           "title": {
            "standoff": 15
           }
          },
          "yaxis": {
           "title": {
            "standoff": 15
           }
          }
         }
        },
        "title": {
         "text": "Average Credit Limit by Card Type (%)"
        },
        "width": 1000,
        "xaxis": {
         "anchor": "y",
         "autorange": true,
         "domain": [
          0,
          1
         ],
         "range": [
          -0.5,
          3.5
         ],
         "showgrid": false,
         "title": {
          "text": "Card Type"
         },
         "type": "category"
        },
        "yaxis": {
         "anchor": "x",
         "autorange": true,
         "domain": [
          0,
          1
         ],
         "range": [
          0,
          35.69022276049142
         ],
         "showgrid": false,
         "title": {
          "text": "Percentage of Total Avg Credit Limit"
         },
         "type": "linear"
        }
       }
      }
     },
     "metadata": {},
     "output_type": "display_data"
    }
   ],
   "source": [
    "fig = px.bar(\n",
    "    avg_credit_by_card,\n",
    "    x='Card_Category',\n",
    "    y='percentage',\n",
    "    title='Average Credit Limit by Card Type (%)',\n",
    "    color_discrete_sequence=['#002366'],\n",
    "    text='percentage',\n",
    "    height=600,\n",
    "    width=1000\n",
    ")\n",
    "\n",
    "fig.update_layout(\n",
    "    template=\"presentation\",\n",
    "    xaxis_title=\"Card Type\",\n",
    "    yaxis_title=\"Percentage of Total Avg Credit Limit\",\n",
    "    legend_title_text=None,\n",
    "    paper_bgcolor=\"rgba(0, 0, 0, 0)\",\n",
    "    plot_bgcolor=\"rgba(0, 0, 0, 0)\",\n",
    "    xaxis=dict(showgrid=False),\n",
    "    yaxis=dict(showgrid=False)\n",
    ")\n",
    "\n",
    "fig.update_traces(\n",
    "    texttemplate=\"%{text:.2f}%\",\n",
    "    textposition=\"outside\",\n",
    "    marker_line_width=0\n",
    ")\n",
    "\n",
    "fig.write_image(os.path.join(results_dir, 'Avg_Credit_Limit_by_Card_Type.jpg'))\n",
    "fig.write_image(os.path.join(results_dir, 'Avg_Credit_Limit_by_Card_Type.png'))\n",
    "fig.write_html(os.path.join(results_dir, 'Avg_Credit_Limit_by_Card_Type.html'))\n",
    "\n",
    "fig.show()"
   ]
  },
  {
   "cell_type": "markdown",
   "id": "70b0d691-1b08-461a-b4fe-ab4f8c04feee",
   "metadata": {},
   "source": [
    "### Average `Interest Earned` per `Card Type`"
   ]
  },
  {
   "cell_type": "code",
   "execution_count": 42,
   "id": "47665c18-88b1-4350-86be-37a487c5545b",
   "metadata": {},
   "outputs": [
    {
     "data": {
      "text/html": [
       "<div>\n",
       "<style scoped>\n",
       "    .dataframe tbody tr th:only-of-type {\n",
       "        vertical-align: middle;\n",
       "    }\n",
       "\n",
       "    .dataframe tbody tr th {\n",
       "        vertical-align: top;\n",
       "    }\n",
       "\n",
       "    .dataframe thead th {\n",
       "        text-align: right;\n",
       "    }\n",
       "</style>\n",
       "<table border=\"1\" class=\"dataframe\">\n",
       "  <thead>\n",
       "    <tr style=\"text-align: right;\">\n",
       "      <th></th>\n",
       "      <th>Card_Category</th>\n",
       "      <th>average_interest</th>\n",
       "    </tr>\n",
       "  </thead>\n",
       "  <tbody>\n",
       "    <tr>\n",
       "      <th>2</th>\n",
       "      <td>Platinum</td>\n",
       "      <td>2412.373881</td>\n",
       "    </tr>\n",
       "    <tr>\n",
       "      <th>1</th>\n",
       "      <td>Gold</td>\n",
       "      <td>1988.213617</td>\n",
       "    </tr>\n",
       "    <tr>\n",
       "      <th>3</th>\n",
       "      <td>Silver</td>\n",
       "      <td>1270.862723</td>\n",
       "    </tr>\n",
       "    <tr>\n",
       "      <th>0</th>\n",
       "      <td>Blue</td>\n",
       "      <td>705.001925</td>\n",
       "    </tr>\n",
       "  </tbody>\n",
       "</table>\n",
       "</div>"
      ],
      "text/plain": [
       "  Card_Category  average_interest\n",
       "2      Platinum       2412.373881\n",
       "1          Gold       1988.213617\n",
       "3        Silver       1270.862723\n",
       "0          Blue        705.001925"
      ]
     },
     "execution_count": 42,
     "metadata": {},
     "output_type": "execute_result"
    }
   ],
   "source": [
    "avg_interest_by_card = merged_df.groupby('Card_Category')['Interest_Earned'].mean().reset_index(name='average_interest')\n",
    "avg_interest_by_card = avg_interest_by_card.sort_values(by='average_interest', ascending=False)\n",
    "avg_interest_by_card"
   ]
  },
  {
   "cell_type": "code",
   "execution_count": 43,
   "id": "e42b9cf8-a09c-4939-82cc-1688fb2c250b",
   "metadata": {},
   "outputs": [
    {
     "data": {
      "text/html": [
       "<div>\n",
       "<style scoped>\n",
       "    .dataframe tbody tr th:only-of-type {\n",
       "        vertical-align: middle;\n",
       "    }\n",
       "\n",
       "    .dataframe tbody tr th {\n",
       "        vertical-align: top;\n",
       "    }\n",
       "\n",
       "    .dataframe thead th {\n",
       "        text-align: right;\n",
       "    }\n",
       "</style>\n",
       "<table border=\"1\" class=\"dataframe\">\n",
       "  <thead>\n",
       "    <tr style=\"text-align: right;\">\n",
       "      <th></th>\n",
       "      <th>Card_Category</th>\n",
       "      <th>average_interest</th>\n",
       "      <th>percentage</th>\n",
       "    </tr>\n",
       "  </thead>\n",
       "  <tbody>\n",
       "    <tr>\n",
       "      <th>2</th>\n",
       "      <td>Platinum</td>\n",
       "      <td>2412.373881</td>\n",
       "      <td>37.832541</td>\n",
       "    </tr>\n",
       "    <tr>\n",
       "      <th>1</th>\n",
       "      <td>Gold</td>\n",
       "      <td>1988.213617</td>\n",
       "      <td>31.180562</td>\n",
       "    </tr>\n",
       "    <tr>\n",
       "      <th>3</th>\n",
       "      <td>Silver</td>\n",
       "      <td>1270.862723</td>\n",
       "      <td>19.930562</td>\n",
       "    </tr>\n",
       "    <tr>\n",
       "      <th>0</th>\n",
       "      <td>Blue</td>\n",
       "      <td>705.001925</td>\n",
       "      <td>11.056335</td>\n",
       "    </tr>\n",
       "  </tbody>\n",
       "</table>\n",
       "</div>"
      ],
      "text/plain": [
       "  Card_Category  average_interest  percentage\n",
       "2      Platinum       2412.373881   37.832541\n",
       "1          Gold       1988.213617   31.180562\n",
       "3        Silver       1270.862723   19.930562\n",
       "0          Blue        705.001925   11.056335"
      ]
     },
     "execution_count": 43,
     "metadata": {},
     "output_type": "execute_result"
    }
   ],
   "source": [
    "total_interest = avg_interest_by_card['average_interest'].sum()\n",
    "avg_interest_by_card['percentage'] = (avg_interest_by_card['average_interest'] / total_interest) * 100\n",
    "avg_interest_by_card"
   ]
  },
  {
   "cell_type": "code",
   "execution_count": 44,
   "id": "192d364a-fde9-417b-8430-b87f5882d555",
   "metadata": {},
   "outputs": [
    {
     "data": {
      "application/vnd.plotly.v1+json": {
       "config": {
        "plotlyServerURL": "https://plot.ly"
       },
       "data": [
        {
         "hovertemplate": "Card_Category=%{x}<br>percentage=%{text}<extra></extra>",
         "legendgroup": "",
         "marker": {
          "color": "#002366",
          "line": {
           "width": 0
          },
          "pattern": {
           "shape": ""
          }
         },
         "name": "",
         "orientation": "v",
         "showlegend": false,
         "text": {
          "_inputArray": {
           "0": 37.83254112755661,
           "1": 31.180562035313642,
           "2": 19.930561602521934,
           "3": 11.056335234607802,
           "bdata": "HrcptZDqQkBAkkRQOS4/QLy+AUk57jNAiYHM+NccJkA=",
           "dtype": "f8",
           "shape": "4"
          },
          "bdata": "HrcptZDqQkBAkkRQOS4/QLy+AUk57jNAiYHM+NccJkA=",
          "dtype": "f8"
         },
         "textposition": "outside",
         "texttemplate": "%{text:.2f}%",
         "type": "bar",
         "x": [
          "Platinum",
          "Gold",
          "Silver",
          "Blue"
         ],
         "xaxis": "x",
         "y": {
          "_inputArray": {
           "0": 37.83254112755661,
           "1": 31.180562035313642,
           "2": 19.930561602521934,
           "3": 11.056335234607802,
           "bdata": "HrcptZDqQkBAkkRQOS4/QLy+AUk57jNAiYHM+NccJkA=",
           "dtype": "f8",
           "shape": "4"
          },
          "bdata": "HrcptZDqQkBAkkRQOS4/QLy+AUk57jNAiYHM+NccJkA=",
          "dtype": "f8"
         },
         "yaxis": "y"
        }
       ],
       "layout": {
        "barmode": "relative",
        "height": 600,
        "legend": {
         "tracegroupgap": 0
        },
        "paper_bgcolor": "rgba(0, 0, 0, 0)",
        "plot_bgcolor": "rgba(0, 0, 0, 0)",
        "template": {
         "data": {
          "pie": [
           {
            "automargin": true,
            "type": "pie"
           }
          ],
          "scatter": [
           {
            "line": {
             "width": 3
            },
            "marker": {
             "size": 9
            },
            "type": "scatter"
           }
          ],
          "scatter3d": [
           {
            "line": {
             "width": 3
            },
            "marker": {
             "size": 9
            },
            "type": "scatter3d"
           }
          ],
          "scattergeo": [
           {
            "line": {
             "width": 3
            },
            "marker": {
             "size": 9
            },
            "type": "scattergeo"
           }
          ],
          "scattergl": [
           {
            "line": {
             "width": 3
            },
            "marker": {
             "size": 9
            },
            "type": "scattergl"
           }
          ],
          "scatterpolar": [
           {
            "line": {
             "width": 3
            },
            "marker": {
             "size": 9
            },
            "type": "scatterpolar"
           }
          ],
          "scatterpolargl": [
           {
            "line": {
             "width": 3
            },
            "marker": {
             "size": 9
            },
            "type": "scatterpolargl"
           }
          ],
          "scatterternary": [
           {
            "line": {
             "width": 3
            },
            "marker": {
             "size": 9
            },
            "type": "scatterternary"
           }
          ],
          "table": [
           {
            "cells": {
             "height": 30
            },
            "header": {
             "height": 36
            },
            "type": "table"
           }
          ]
         },
         "layout": {
          "font": {
           "size": 18
          },
          "xaxis": {
           "title": {
            "standoff": 15
           }
          },
          "yaxis": {
           "title": {
            "standoff": 15
           }
          }
         }
        },
        "title": {
         "text": "Average Interest Earned per Card Type (%)"
        },
        "width": 1000,
        "xaxis": {
         "anchor": "y",
         "autorange": true,
         "domain": [
          0,
          1
         ],
         "range": [
          -0.5,
          3.5
         ],
         "showgrid": false,
         "title": {
          "text": "Card Type"
         },
         "type": "category"
        },
        "yaxis": {
         "anchor": "x",
         "autorange": true,
         "domain": [
          0,
          1
         ],
         "range": [
          0,
          39.82372750269117
         ],
         "showgrid": false,
         "title": {
          "text": "Percentage of Total Avg Interest Earned"
         },
         "type": "linear"
        }
       }
      }
     },
     "metadata": {},
     "output_type": "display_data"
    }
   ],
   "source": [
    "fig = px.bar(\n",
    "    avg_interest_by_card,\n",
    "    x='Card_Category',\n",
    "    y='percentage',\n",
    "    title='Average Interest Earned per Card Type (%)',\n",
    "    color_discrete_sequence=['#002366'],\n",
    "    text='percentage',\n",
    "    height=600,\n",
    "    width=1000\n",
    ")\n",
    "\n",
    "fig.update_layout(\n",
    "    template=\"presentation\",\n",
    "    xaxis_title=\"Card Type\",\n",
    "    yaxis_title=\"Percentage of Total Avg Interest Earned\",\n",
    "    legend_title_text=None,\n",
    "    paper_bgcolor=\"rgba(0, 0, 0, 0)\",\n",
    "    plot_bgcolor=\"rgba(0, 0, 0, 0)\",\n",
    "    xaxis=dict(showgrid=False),\n",
    "    yaxis=dict(showgrid=False)\n",
    ")\n",
    "\n",
    "fig.update_traces(\n",
    "    texttemplate=\"%{text:.2f}%\",\n",
    "    textposition=\"outside\",\n",
    "    marker_line_width=0\n",
    ")\n",
    "\n",
    "fig.write_image(os.path.join(results_dir, 'Avg_Interest_by_Card_Type.jpg'))\n",
    "fig.write_image(os.path.join(results_dir, 'Avg_Interest_by_Card_Type.png'))\n",
    "fig.write_html(os.path.join(results_dir, 'Avg_Interest_by_Card_Type.html'))\n",
    "\n",
    "fig.show()"
   ]
  },
  {
   "cell_type": "markdown",
   "id": "e9086227-ccce-403e-af2d-7df882f1dbd6",
   "metadata": {},
   "source": [
    "### Usage Mode vs Total Spend"
   ]
  },
  {
   "cell_type": "code",
   "execution_count": 45,
   "id": "9ce7a066-97ae-4781-8635-e45f58839232",
   "metadata": {},
   "outputs": [
    {
     "data": {
      "text/html": [
       "<div>\n",
       "<style scoped>\n",
       "    .dataframe tbody tr th:only-of-type {\n",
       "        vertical-align: middle;\n",
       "    }\n",
       "\n",
       "    .dataframe tbody tr th {\n",
       "        vertical-align: top;\n",
       "    }\n",
       "\n",
       "    .dataframe thead th {\n",
       "        text-align: right;\n",
       "    }\n",
       "</style>\n",
       "<table border=\"1\" class=\"dataframe\">\n",
       "  <thead>\n",
       "    <tr style=\"text-align: right;\">\n",
       "      <th></th>\n",
       "      <th>Use Chip</th>\n",
       "      <th>total_spend</th>\n",
       "    </tr>\n",
       "  </thead>\n",
       "  <tbody>\n",
       "    <tr>\n",
       "      <th>1</th>\n",
       "      <td>online</td>\n",
       "      <td>2776610</td>\n",
       "    </tr>\n",
       "    <tr>\n",
       "      <th>0</th>\n",
       "      <td>chip</td>\n",
       "      <td>13850621</td>\n",
       "    </tr>\n",
       "    <tr>\n",
       "      <th>2</th>\n",
       "      <td>swipe</td>\n",
       "      <td>27894782</td>\n",
       "    </tr>\n",
       "  </tbody>\n",
       "</table>\n",
       "</div>"
      ],
      "text/plain": [
       "  Use Chip  total_spend\n",
       "1   online      2776610\n",
       "0     chip     13850621\n",
       "2    swipe     27894782"
      ]
     },
     "execution_count": 45,
     "metadata": {},
     "output_type": "execute_result"
    }
   ],
   "source": [
    "usage_vs_spend = merged_df.groupby('Use Chip')['Total_Trans_Amt'].sum().reset_index(name='total_spend')\n",
    "usage_vs_spend = usage_vs_spend.sort_values(by='total_spend', ascending=True)\n",
    "usage_vs_spend"
   ]
  },
  {
   "cell_type": "code",
   "execution_count": 46,
   "id": "449fa4af-a919-49ff-8159-1474c2de61bc",
   "metadata": {},
   "outputs": [
    {
     "data": {
      "text/html": [
       "<div>\n",
       "<style scoped>\n",
       "    .dataframe tbody tr th:only-of-type {\n",
       "        vertical-align: middle;\n",
       "    }\n",
       "\n",
       "    .dataframe tbody tr th {\n",
       "        vertical-align: top;\n",
       "    }\n",
       "\n",
       "    .dataframe thead th {\n",
       "        text-align: right;\n",
       "    }\n",
       "</style>\n",
       "<table border=\"1\" class=\"dataframe\">\n",
       "  <thead>\n",
       "    <tr style=\"text-align: right;\">\n",
       "      <th></th>\n",
       "      <th>Use Chip</th>\n",
       "      <th>total_spend</th>\n",
       "      <th>percentage</th>\n",
       "    </tr>\n",
       "  </thead>\n",
       "  <tbody>\n",
       "    <tr>\n",
       "      <th>1</th>\n",
       "      <td>online</td>\n",
       "      <td>2776610</td>\n",
       "      <td>6.236488</td>\n",
       "    </tr>\n",
       "    <tr>\n",
       "      <th>0</th>\n",
       "      <td>chip</td>\n",
       "      <td>13850621</td>\n",
       "      <td>31.109602</td>\n",
       "    </tr>\n",
       "    <tr>\n",
       "      <th>2</th>\n",
       "      <td>swipe</td>\n",
       "      <td>27894782</td>\n",
       "      <td>62.653910</td>\n",
       "    </tr>\n",
       "  </tbody>\n",
       "</table>\n",
       "</div>"
      ],
      "text/plain": [
       "  Use Chip  total_spend  percentage\n",
       "1   online      2776610    6.236488\n",
       "0     chip     13850621   31.109602\n",
       "2    swipe     27894782   62.653910"
      ]
     },
     "execution_count": 46,
     "metadata": {},
     "output_type": "execute_result"
    }
   ],
   "source": [
    "total_spend_sum = usage_vs_spend['total_spend'].sum()\n",
    "usage_vs_spend['percentage'] = (usage_vs_spend['total_spend'] / total_spend_sum) * 100\n",
    "usage_vs_spend"
   ]
  },
  {
   "cell_type": "code",
   "execution_count": 47,
   "id": "33fb5cfb-34e7-4607-8448-566b1246c3c1",
   "metadata": {},
   "outputs": [
    {
     "data": {
      "application/vnd.plotly.v1+json": {
       "config": {
        "plotlyServerURL": "https://plot.ly"
       },
       "data": [
        {
         "hovertemplate": "percentage=%{text}<br>Use Chip=%{y}<extra></extra>",
         "legendgroup": "",
         "marker": {
          "color": "#002366",
          "line": {
           "width": 0
          },
          "pattern": {
           "shape": ""
          }
         },
         "name": "",
         "orientation": "h",
         "showlegend": false,
         "text": {
          "_inputArray": {
           "0": 6.236488004259826,
           "1": 31.109601895134436,
           "2": 62.653910100605735,
           "bdata": "4MRQ6SnyGECZLqveDhw/QBdQgFOzU09A",
           "dtype": "f8",
           "shape": "3"
          },
          "bdata": "4MRQ6SnyGECZLqveDhw/QBdQgFOzU09A",
          "dtype": "f8"
         },
         "textposition": "outside",
         "texttemplate": "%{text:.2f}%",
         "type": "bar",
         "x": {
          "_inputArray": {
           "0": 6.236488004259826,
           "1": 31.109601895134436,
           "2": 62.653910100605735,
           "bdata": "4MRQ6SnyGECZLqveDhw/QBdQgFOzU09A",
           "dtype": "f8",
           "shape": "3"
          },
          "bdata": "4MRQ6SnyGECZLqveDhw/QBdQgFOzU09A",
          "dtype": "f8"
         },
         "xaxis": "x",
         "y": [
          "online",
          "chip",
          "swipe"
         ],
         "yaxis": "y"
        }
       ],
       "layout": {
        "barmode": "relative",
        "height": 600,
        "legend": {
         "tracegroupgap": 0
        },
        "paper_bgcolor": "rgba(0, 0, 0, 0)",
        "plot_bgcolor": "rgba(0, 0, 0, 0)",
        "template": {
         "data": {
          "pie": [
           {
            "automargin": true,
            "type": "pie"
           }
          ],
          "scatter": [
           {
            "line": {
             "width": 3
            },
            "marker": {
             "size": 9
            },
            "type": "scatter"
           }
          ],
          "scatter3d": [
           {
            "line": {
             "width": 3
            },
            "marker": {
             "size": 9
            },
            "type": "scatter3d"
           }
          ],
          "scattergeo": [
           {
            "line": {
             "width": 3
            },
            "marker": {
             "size": 9
            },
            "type": "scattergeo"
           }
          ],
          "scattergl": [
           {
            "line": {
             "width": 3
            },
            "marker": {
             "size": 9
            },
            "type": "scattergl"
           }
          ],
          "scatterpolar": [
           {
            "line": {
             "width": 3
            },
            "marker": {
             "size": 9
            },
            "type": "scatterpolar"
           }
          ],
          "scatterpolargl": [
           {
            "line": {
             "width": 3
            },
            "marker": {
             "size": 9
            },
            "type": "scatterpolargl"
           }
          ],
          "scatterternary": [
           {
            "line": {
             "width": 3
            },
            "marker": {
             "size": 9
            },
            "type": "scatterternary"
           }
          ],
          "table": [
           {
            "cells": {
             "height": 30
            },
            "header": {
             "height": 36
            },
            "type": "table"
           }
          ]
         },
         "layout": {
          "font": {
           "size": 18
          },
          "xaxis": {
           "title": {
            "standoff": 15
           }
          },
          "yaxis": {
           "title": {
            "standoff": 15
           }
          }
         }
        },
        "title": {
         "text": "Usage Mode vs Total Spend (%)"
        },
        "width": 1000,
        "xaxis": {
         "anchor": "y",
         "autorange": true,
         "domain": [
          0,
          1
         ],
         "range": [
          0,
          65.95148431642708
         ],
         "showgrid": false,
         "title": {
          "text": "Percentage of Total Spend"
         },
         "type": "linear"
        },
        "yaxis": {
         "anchor": "x",
         "autorange": true,
         "domain": [
          0,
          1
         ],
         "range": [
          -0.5,
          2.5
         ],
         "showgrid": false,
         "title": {
          "text": "Usage Mode"
         },
         "type": "category"
        }
       }
      }
     },
     "metadata": {},
     "output_type": "display_data"
    }
   ],
   "source": [
    "fig = px.bar(\n",
    "    usage_vs_spend,\n",
    "    x='percentage',\n",
    "    y='Use Chip',\n",
    "    orientation='h',\n",
    "    title='Usage Mode vs Total Spend (%)',\n",
    "    color_discrete_sequence=['#002366'],\n",
    "    text='percentage',\n",
    "    height=600,\n",
    "    width=1000\n",
    ")\n",
    "\n",
    "fig.update_layout(\n",
    "    template=\"presentation\",\n",
    "    xaxis_title=\"Percentage of Total Spend\",\n",
    "    yaxis_title=\"Usage Mode\",\n",
    "    legend_title_text=None,\n",
    "    paper_bgcolor=\"rgba(0, 0, 0, 0)\",\n",
    "    plot_bgcolor=\"rgba(0, 0, 0, 0)\",\n",
    "    xaxis=dict(showgrid=False),\n",
    "    yaxis=dict(showgrid=False)\n",
    ")\n",
    "\n",
    "fig.update_traces(\n",
    "    texttemplate=\"%{text:.2f}%\",\n",
    "    textposition=\"outside\",\n",
    "    marker_line_width=0\n",
    ")\n",
    "\n",
    "fig.write_image(os.path.join(results_dir, 'Usage_Mode_vs_Total_Spend.jpg'))\n",
    "fig.write_image(os.path.join(results_dir, 'Usage_Mode_vs_Total_Spend.png'))\n",
    "fig.write_html(os.path.join(results_dir, 'Usage_Mode_vs_Total_Spend.html'))\n",
    "\n",
    "fig.show()"
   ]
  },
  {
   "cell_type": "markdown",
   "id": "ca052c3e-d00f-4573-899d-c9c21c4044cb",
   "metadata": {},
   "source": [
    "### Total Transaction Amount Over Time"
   ]
  },
  {
   "cell_type": "code",
   "execution_count": 48,
   "id": "d5f7ba7c-461f-498b-9a66-7de524dd1807",
   "metadata": {},
   "outputs": [],
   "source": [
    "month_order = ['January', 'February', 'March', 'April', 'May', 'June',\n",
    "               'July', 'August', 'September', 'October', 'November', 'December']\n",
    "merged_df['Month'] = pd.Categorical(merged_df['Month'], categories=month_order, ordered=True)"
   ]
  },
  {
   "cell_type": "code",
   "execution_count": 49,
   "id": "a7f11af2-257f-497b-8238-3621040b0737",
   "metadata": {},
   "outputs": [
    {
     "name": "stderr",
     "output_type": "stream",
     "text": [
      "C:\\Users\\Uwiwe Jedid Jah\\AppData\\Local\\Temp\\ipykernel_3984\\1145090672.py:1: FutureWarning:\n",
      "\n",
      "The default of observed=False is deprecated and will be changed to True in a future version of pandas. Pass observed=False to retain current behavior or observed=True to adopt the future default and silence this warning.\n",
      "\n"
     ]
    },
    {
     "data": {
      "text/html": [
       "<div>\n",
       "<style scoped>\n",
       "    .dataframe tbody tr th:only-of-type {\n",
       "        vertical-align: middle;\n",
       "    }\n",
       "\n",
       "    .dataframe tbody tr th {\n",
       "        vertical-align: top;\n",
       "    }\n",
       "\n",
       "    .dataframe thead th {\n",
       "        text-align: right;\n",
       "    }\n",
       "</style>\n",
       "<table border=\"1\" class=\"dataframe\">\n",
       "  <thead>\n",
       "    <tr style=\"text-align: right;\">\n",
       "      <th></th>\n",
       "      <th>Month</th>\n",
       "      <th>total_transaction_amount</th>\n",
       "    </tr>\n",
       "  </thead>\n",
       "  <tbody>\n",
       "    <tr>\n",
       "      <th>0</th>\n",
       "      <td>January</td>\n",
       "      <td>4322186</td>\n",
       "    </tr>\n",
       "    <tr>\n",
       "      <th>1</th>\n",
       "      <td>February</td>\n",
       "      <td>3539575</td>\n",
       "    </tr>\n",
       "    <tr>\n",
       "      <th>2</th>\n",
       "      <td>March</td>\n",
       "      <td>3388827</td>\n",
       "    </tr>\n",
       "    <tr>\n",
       "      <th>3</th>\n",
       "      <td>April</td>\n",
       "      <td>4174728</td>\n",
       "    </tr>\n",
       "    <tr>\n",
       "      <th>4</th>\n",
       "      <td>May</td>\n",
       "      <td>3426913</td>\n",
       "    </tr>\n",
       "    <tr>\n",
       "      <th>5</th>\n",
       "      <td>June</td>\n",
       "      <td>3533660</td>\n",
       "    </tr>\n",
       "    <tr>\n",
       "      <th>6</th>\n",
       "      <td>July</td>\n",
       "      <td>4546958</td>\n",
       "    </tr>\n",
       "    <tr>\n",
       "      <th>7</th>\n",
       "      <td>August</td>\n",
       "      <td>3449868</td>\n",
       "    </tr>\n",
       "    <tr>\n",
       "      <th>8</th>\n",
       "      <td>September</td>\n",
       "      <td>3452874</td>\n",
       "    </tr>\n",
       "    <tr>\n",
       "      <th>9</th>\n",
       "      <td>October</td>\n",
       "      <td>4050909</td>\n",
       "    </tr>\n",
       "    <tr>\n",
       "      <th>10</th>\n",
       "      <td>November</td>\n",
       "      <td>3405420</td>\n",
       "    </tr>\n",
       "    <tr>\n",
       "      <th>11</th>\n",
       "      <td>December</td>\n",
       "      <td>3230095</td>\n",
       "    </tr>\n",
       "  </tbody>\n",
       "</table>\n",
       "</div>"
      ],
      "text/plain": [
       "        Month  total_transaction_amount\n",
       "0     January                   4322186\n",
       "1    February                   3539575\n",
       "2       March                   3388827\n",
       "3       April                   4174728\n",
       "4         May                   3426913\n",
       "5        June                   3533660\n",
       "6        July                   4546958\n",
       "7      August                   3449868\n",
       "8   September                   3452874\n",
       "9     October                   4050909\n",
       "10   November                   3405420\n",
       "11   December                   3230095"
      ]
     },
     "execution_count": 49,
     "metadata": {},
     "output_type": "execute_result"
    }
   ],
   "source": [
    "monthly_trans_amt = merged_df.groupby('Month')['Total_Trans_Amt'].sum().reset_index(name='total_transaction_amount')\n",
    "monthly_trans_amt = monthly_trans_amt.sort_values('Month')\n",
    "monthly_trans_amt"
   ]
  },
  {
   "cell_type": "code",
   "execution_count": 50,
   "id": "9811cd94-fb0d-4236-a21f-85fe9047737b",
   "metadata": {},
   "outputs": [
    {
     "data": {
      "application/vnd.plotly.v1+json": {
       "config": {
        "plotlyServerURL": "https://plot.ly"
       },
       "data": [
        {
         "hovertemplate": "Month=%{x}<br>total_transaction_amount=%{y}<extra></extra>",
         "legendgroup": "",
         "line": {
          "color": "#002366",
          "dash": "solid",
          "shape": "spline",
          "width": 3
         },
         "marker": {
          "symbol": "circle"
         },
         "mode": "lines+markers",
         "name": "",
         "orientation": "v",
         "showlegend": false,
         "type": "scatter",
         "x": [
          "January",
          "February",
          "March",
          "April",
          "May",
          "June",
          "July",
          "August",
          "September",
          "October",
          "November",
          "December"
         ],
         "xaxis": "x",
         "y": {
          "_inputArray": {
           "0": 4322186,
           "1": 3539575,
           "10": 3405420,
           "11": 3230095,
           "2": 3388827,
           "3": 4174728,
           "4": 3426913,
           "5": 3533660,
           "6": 4546958,
           "7": 3449868,
           "8": 3452874,
           "9": 4050909,
           "bdata": "ivNBAHcCNgCbtTMAiLM/AGFKNABc6zUAjmFFAAykNADKrzQA3c89AGz2MwCPSTEA",
           "dtype": "i4",
           "shape": "12"
          },
          "bdata": "ivNBAHcCNgCbtTMAiLM/AGFKNABc6zUAjmFFAAykNADKrzQA3c89AGz2MwCPSTEA",
          "dtype": "i4"
         },
         "yaxis": "y"
        }
       ],
       "layout": {
        "autosize": true,
        "legend": {
         "tracegroupgap": 0
        },
        "paper_bgcolor": "rgba(0, 0, 0, 0)",
        "plot_bgcolor": "rgba(0, 0, 0, 0)",
        "template": {
         "data": {
          "pie": [
           {
            "automargin": true,
            "type": "pie"
           }
          ],
          "scatter": [
           {
            "line": {
             "width": 3
            },
            "marker": {
             "size": 9
            },
            "type": "scatter"
           }
          ],
          "scatter3d": [
           {
            "line": {
             "width": 3
            },
            "marker": {
             "size": 9
            },
            "type": "scatter3d"
           }
          ],
          "scattergeo": [
           {
            "line": {
             "width": 3
            },
            "marker": {
             "size": 9
            },
            "type": "scattergeo"
           }
          ],
          "scattergl": [
           {
            "line": {
             "width": 3
            },
            "marker": {
             "size": 9
            },
            "type": "scattergl"
           }
          ],
          "scatterpolar": [
           {
            "line": {
             "width": 3
            },
            "marker": {
             "size": 9
            },
            "type": "scatterpolar"
           }
          ],
          "scatterpolargl": [
           {
            "line": {
             "width": 3
            },
            "marker": {
             "size": 9
            },
            "type": "scatterpolargl"
           }
          ],
          "scatterternary": [
           {
            "line": {
             "width": 3
            },
            "marker": {
             "size": 9
            },
            "type": "scatterternary"
           }
          ],
          "table": [
           {
            "cells": {
             "height": 30
            },
            "header": {
             "height": 36
            },
            "type": "table"
           }
          ]
         },
         "layout": {
          "font": {
           "size": 18
          },
          "xaxis": {
           "title": {
            "standoff": 15
           }
          },
          "yaxis": {
           "title": {
            "standoff": 15
           }
          }
         }
        },
        "title": {
         "text": "Total Transaction Amount Over Time (Monthly)"
        },
        "xaxis": {
         "anchor": "y",
         "autorange": true,
         "domain": [
          0,
          1
         ],
         "range": [
          -0.7559241706161137,
          11.755924170616113
         ],
         "showgrid": false,
         "title": {
          "text": "Month"
         },
         "type": "category"
        },
        "yaxis": {
         "anchor": "x",
         "autorange": true,
         "domain": [
          0,
          1
         ],
         "range": [
          3102339.6343283583,
          4674713.365671642
         ],
         "showgrid": false,
         "title": {
          "text": "Total Transaction Amount"
         },
         "type": "linear"
        }
       }
      }
     },
     "metadata": {},
     "output_type": "display_data"
    }
   ],
   "source": [
    "fig = px.line(\n",
    "    monthly_trans_amt,\n",
    "    x='Month',\n",
    "    y='total_transaction_amount',\n",
    "    title='Total Transaction Amount Over Time (Monthly)',\n",
    "    markers=True\n",
    ")\n",
    "\n",
    "# Apply smoothing using a spline\n",
    "fig.update_traces(line_shape='spline', line=dict(color='#002366', width=3))\n",
    "\n",
    "fig.update_layout(\n",
    "    template=\"presentation\",\n",
    "    xaxis_title=\"Month\",\n",
    "    yaxis_title=\"Total Transaction Amount\",\n",
    "    paper_bgcolor=\"rgba(0,0,0,0)\",\n",
    "    plot_bgcolor=\"rgba(0,0,0,0)\",\n",
    "    xaxis=dict(showgrid=False),\n",
    "    yaxis=dict(showgrid=False)\n",
    ")\n",
    "\n",
    "fig.write_image(os.path.join(results_dir, 'Total_Transaction_Amount_Over_Time.jpg'))\n",
    "fig.write_image(os.path.join(results_dir, 'Total_Transaction_Amount_Over_Time.png'))\n",
    "fig.write_html(os.path.join(results_dir, 'Total_Transaction_Amount_Over_Time.html'))\n",
    "\n",
    "fig.show()"
   ]
  },
  {
   "cell_type": "markdown",
   "id": "3f5816ba-7556-48c8-856d-39bc20be30c3",
   "metadata": {},
   "source": [
    "### Spending by Expense Type "
   ]
  },
  {
   "cell_type": "code",
   "execution_count": 51,
   "id": "8827bd99-1ccd-4989-9623-4c3df869264e",
   "metadata": {},
   "outputs": [
    {
     "data": {
      "text/html": [
       "<div>\n",
       "<style scoped>\n",
       "    .dataframe tbody tr th:only-of-type {\n",
       "        vertical-align: middle;\n",
       "    }\n",
       "\n",
       "    .dataframe tbody tr th {\n",
       "        vertical-align: top;\n",
       "    }\n",
       "\n",
       "    .dataframe thead th {\n",
       "        text-align: right;\n",
       "    }\n",
       "</style>\n",
       "<table border=\"1\" class=\"dataframe\">\n",
       "  <thead>\n",
       "    <tr style=\"text-align: right;\">\n",
       "      <th></th>\n",
       "      <th>Exp Type</th>\n",
       "      <th>total_customers</th>\n",
       "    </tr>\n",
       "  </thead>\n",
       "  <tbody>\n",
       "    <tr>\n",
       "      <th>0</th>\n",
       "      <td>Bills</td>\n",
       "      <td>2970</td>\n",
       "    </tr>\n",
       "    <tr>\n",
       "      <th>1</th>\n",
       "      <td>Entertainment</td>\n",
       "      <td>1988</td>\n",
       "    </tr>\n",
       "    <tr>\n",
       "      <th>3</th>\n",
       "      <td>Fuel</td>\n",
       "      <td>1759</td>\n",
       "    </tr>\n",
       "    <tr>\n",
       "      <th>4</th>\n",
       "      <td>Grocery</td>\n",
       "      <td>1502</td>\n",
       "    </tr>\n",
       "    <tr>\n",
       "      <th>2</th>\n",
       "      <td>Food</td>\n",
       "      <td>1187</td>\n",
       "    </tr>\n",
       "    <tr>\n",
       "      <th>5</th>\n",
       "      <td>Travel</td>\n",
       "      <td>702</td>\n",
       "    </tr>\n",
       "  </tbody>\n",
       "</table>\n",
       "</div>"
      ],
      "text/plain": [
       "        Exp Type  total_customers\n",
       "0          Bills             2970\n",
       "1  Entertainment             1988\n",
       "3           Fuel             1759\n",
       "4        Grocery             1502\n",
       "2           Food             1187\n",
       "5         Travel              702"
      ]
     },
     "execution_count": 51,
     "metadata": {},
     "output_type": "execute_result"
    }
   ],
   "source": [
    "exp_type_spending = merged_df.groupby('Exp Type')['Client_Num'].nunique().reset_index(name='total_customers')\n",
    "exp_type_spending = exp_type_spending.sort_values(by='total_customers', ascending=False)\n",
    "exp_type_spending"
   ]
  },
  {
   "cell_type": "code",
   "execution_count": 52,
   "id": "f3c16cd1-85c3-4b72-9fd6-978d43c08be1",
   "metadata": {},
   "outputs": [
    {
     "data": {
      "text/html": [
       "<div>\n",
       "<style scoped>\n",
       "    .dataframe tbody tr th:only-of-type {\n",
       "        vertical-align: middle;\n",
       "    }\n",
       "\n",
       "    .dataframe tbody tr th {\n",
       "        vertical-align: top;\n",
       "    }\n",
       "\n",
       "    .dataframe thead th {\n",
       "        text-align: right;\n",
       "    }\n",
       "</style>\n",
       "<table border=\"1\" class=\"dataframe\">\n",
       "  <thead>\n",
       "    <tr style=\"text-align: right;\">\n",
       "      <th></th>\n",
       "      <th>Exp Type</th>\n",
       "      <th>total_customers</th>\n",
       "      <th>percentage</th>\n",
       "    </tr>\n",
       "  </thead>\n",
       "  <tbody>\n",
       "    <tr>\n",
       "      <th>0</th>\n",
       "      <td>Bills</td>\n",
       "      <td>2970</td>\n",
       "      <td>29.382667</td>\n",
       "    </tr>\n",
       "    <tr>\n",
       "      <th>1</th>\n",
       "      <td>Entertainment</td>\n",
       "      <td>1988</td>\n",
       "      <td>19.667590</td>\n",
       "    </tr>\n",
       "    <tr>\n",
       "      <th>3</th>\n",
       "      <td>Fuel</td>\n",
       "      <td>1759</td>\n",
       "      <td>17.402058</td>\n",
       "    </tr>\n",
       "    <tr>\n",
       "      <th>4</th>\n",
       "      <td>Grocery</td>\n",
       "      <td>1502</td>\n",
       "      <td>14.859517</td>\n",
       "    </tr>\n",
       "    <tr>\n",
       "      <th>2</th>\n",
       "      <td>Food</td>\n",
       "      <td>1187</td>\n",
       "      <td>11.743174</td>\n",
       "    </tr>\n",
       "    <tr>\n",
       "      <th>5</th>\n",
       "      <td>Travel</td>\n",
       "      <td>702</td>\n",
       "      <td>6.944994</td>\n",
       "    </tr>\n",
       "  </tbody>\n",
       "</table>\n",
       "</div>"
      ],
      "text/plain": [
       "        Exp Type  total_customers  percentage\n",
       "0          Bills             2970   29.382667\n",
       "1  Entertainment             1988   19.667590\n",
       "3           Fuel             1759   17.402058\n",
       "4        Grocery             1502   14.859517\n",
       "2           Food             1187   11.743174\n",
       "5         Travel              702    6.944994"
      ]
     },
     "execution_count": 52,
     "metadata": {},
     "output_type": "execute_result"
    }
   ],
   "source": [
    "total_customers = exp_type_spending['total_customers'].sum()\n",
    "exp_type_spending['percentage'] = (exp_type_spending['total_customers'] / total_customers) * 100\n",
    "exp_type_spending"
   ]
  },
  {
   "cell_type": "code",
   "execution_count": 53,
   "id": "1c6cde95-6f65-4752-9754-dd40e5e856f6",
   "metadata": {},
   "outputs": [
    {
     "data": {
      "application/vnd.plotly.v1+json": {
       "config": {
        "plotlyServerURL": "https://plot.ly"
       },
       "data": [
        {
         "hovertemplate": "Exp Type=%{x}<br>percentage=%{text}<extra></extra>",
         "legendgroup": "",
         "marker": {
          "color": "#002366",
          "line": {
           "width": 0
          },
          "pattern": {
           "shape": ""
          }
         },
         "name": "",
         "orientation": "v",
         "showlegend": false,
         "text": {
          "_inputArray": {
           "0": 29.382667194301543,
           "1": 19.667590027700832,
           "2": 17.402057776018996,
           "3": 14.85951721408785,
           "4": 11.743173723783142,
           "5": 6.944994064107638,
           "bdata": "98YsevZhPUBeHBgu56ozQKUaJ0LtZjFAc7bpoxK4LUBPyi1EgXwnQJYGIYasxxtA",
           "dtype": "f8",
           "shape": "6"
          },
          "bdata": "98YsevZhPUBeHBgu56ozQKUaJ0LtZjFAc7bpoxK4LUBPyi1EgXwnQJYGIYasxxtA",
          "dtype": "f8"
         },
         "textposition": "outside",
         "texttemplate": "%{text:.2f}%",
         "type": "bar",
         "x": [
          "Bills",
          "Entertainment",
          "Fuel",
          "Grocery",
          "Food",
          "Travel"
         ],
         "xaxis": "x",
         "y": {
          "_inputArray": {
           "0": 29.382667194301543,
           "1": 19.667590027700832,
           "2": 17.402057776018996,
           "3": 14.85951721408785,
           "4": 11.743173723783142,
           "5": 6.944994064107638,
           "bdata": "98YsevZhPUBeHBgu56ozQKUaJ0LtZjFAc7bpoxK4LUBPyi1EgXwnQJYGIYasxxtA",
           "dtype": "f8",
           "shape": "6"
          },
          "bdata": "98YsevZhPUBeHBgu56ozQKUaJ0LtZjFAc7bpoxK4LUBPyi1EgXwnQJYGIYasxxtA",
          "dtype": "f8"
         },
         "yaxis": "y"
        }
       ],
       "layout": {
        "barmode": "relative",
        "height": 600,
        "legend": {
         "tracegroupgap": 0
        },
        "paper_bgcolor": "rgba(0, 0, 0, 0)",
        "plot_bgcolor": "rgba(0, 0, 0, 0)",
        "template": {
         "data": {
          "pie": [
           {
            "automargin": true,
            "type": "pie"
           }
          ],
          "scatter": [
           {
            "line": {
             "width": 3
            },
            "marker": {
             "size": 9
            },
            "type": "scatter"
           }
          ],
          "scatter3d": [
           {
            "line": {
             "width": 3
            },
            "marker": {
             "size": 9
            },
            "type": "scatter3d"
           }
          ],
          "scattergeo": [
           {
            "line": {
             "width": 3
            },
            "marker": {
             "size": 9
            },
            "type": "scattergeo"
           }
          ],
          "scattergl": [
           {
            "line": {
             "width": 3
            },
            "marker": {
             "size": 9
            },
            "type": "scattergl"
           }
          ],
          "scatterpolar": [
           {
            "line": {
             "width": 3
            },
            "marker": {
             "size": 9
            },
            "type": "scatterpolar"
           }
          ],
          "scatterpolargl": [
           {
            "line": {
             "width": 3
            },
            "marker": {
             "size": 9
            },
            "type": "scatterpolargl"
           }
          ],
          "scatterternary": [
           {
            "line": {
             "width": 3
            },
            "marker": {
             "size": 9
            },
            "type": "scatterternary"
           }
          ],
          "table": [
           {
            "cells": {
             "height": 30
            },
            "header": {
             "height": 36
            },
            "type": "table"
           }
          ]
         },
         "layout": {
          "font": {
           "size": 18
          },
          "xaxis": {
           "title": {
            "standoff": 15
           }
          },
          "yaxis": {
           "title": {
            "standoff": 15
           }
          }
         }
        },
        "title": {
         "text": "Spending by Expense Type (%)"
        },
        "width": 1000,
        "xaxis": {
         "anchor": "y",
         "autorange": true,
         "domain": [
          0,
          1
         ],
         "range": [
          -0.5,
          5.5
         ],
         "showgrid": false,
         "title": {
          "text": "Expense Type"
         },
         "type": "category"
        },
        "yaxis": {
         "anchor": "x",
         "autorange": true,
         "domain": [
          0,
          1
         ],
         "range": [
          0,
          30.92912336242268
         ],
         "showgrid": false,
         "title": {
          "text": "Percentage of Customers"
         },
         "type": "linear"
        }
       }
      }
     },
     "metadata": {},
     "output_type": "display_data"
    }
   ],
   "source": [
    "fig = px.bar(\n",
    "    exp_type_spending,\n",
    "    x='Exp Type',\n",
    "    y='percentage',\n",
    "    title='Spending by Expense Type (%)',\n",
    "    text='percentage',\n",
    "    color_discrete_sequence=['#002366'],\n",
    "    height=600,\n",
    "    width=1000\n",
    ")\n",
    "\n",
    "fig.update_layout(\n",
    "    template=\"presentation\",\n",
    "    xaxis_title=\"Expense Type\",\n",
    "    yaxis_title=\"Percentage of Customers\",\n",
    "    paper_bgcolor=\"rgba(0,0,0,0)\",\n",
    "    plot_bgcolor=\"rgba(0,0,0,0)\",\n",
    "    xaxis=dict(showgrid=False),\n",
    "    yaxis=dict(showgrid=False)\n",
    ")\n",
    "\n",
    "fig.update_traces(\n",
    "    texttemplate=\"%{text:.2f}%\",\n",
    "    textposition=\"outside\",\n",
    "    marker_line_width=0\n",
    ")\n",
    "\n",
    "fig.write_image(os.path.join(results_dir, 'Spending_by_Expense_Type.jpg'))\n",
    "fig.write_image(os.path.join(results_dir, 'Spending_by_Expense_Type.png'))\n",
    "fig.write_html(os.path.join(results_dir, 'Spending_by_Expense_Type.html'))\n",
    "\n",
    "fig.show()\n"
   ]
  },
  {
   "cell_type": "markdown",
   "id": "035885d5-ccd4-462e-ba1b-980f5651f6fd",
   "metadata": {},
   "source": [
    "### Delinquent Accounts by State "
   ]
  },
  {
   "cell_type": "code",
   "execution_count": 54,
   "id": "02a3968e-ebcf-42c7-baf2-e67e32f75d43",
   "metadata": {},
   "outputs": [
    {
     "data": {
      "text/html": [
       "<div>\n",
       "<style scoped>\n",
       "    .dataframe tbody tr th:only-of-type {\n",
       "        vertical-align: middle;\n",
       "    }\n",
       "\n",
       "    .dataframe tbody tr th {\n",
       "        vertical-align: top;\n",
       "    }\n",
       "\n",
       "    .dataframe thead th {\n",
       "        text-align: right;\n",
       "    }\n",
       "</style>\n",
       "<table border=\"1\" class=\"dataframe\">\n",
       "  <thead>\n",
       "    <tr style=\"text-align: right;\">\n",
       "      <th></th>\n",
       "      <th>state_cd</th>\n",
       "      <th>total_delinquent</th>\n",
       "    </tr>\n",
       "  </thead>\n",
       "  <tbody>\n",
       "    <tr>\n",
       "      <th>19</th>\n",
       "      <td>New York</td>\n",
       "      <td>154</td>\n",
       "    </tr>\n",
       "    <tr>\n",
       "      <th>3</th>\n",
       "      <td>California</td>\n",
       "      <td>145</td>\n",
       "    </tr>\n",
       "    <tr>\n",
       "      <th>24</th>\n",
       "      <td>Texas</td>\n",
       "      <td>144</td>\n",
       "    </tr>\n",
       "    <tr>\n",
       "      <th>6</th>\n",
       "      <td>Florida</td>\n",
       "      <td>90</td>\n",
       "    </tr>\n",
       "    <tr>\n",
       "      <th>17</th>\n",
       "      <td>New Jersey</td>\n",
       "      <td>45</td>\n",
       "    </tr>\n",
       "    <tr>\n",
       "      <th>10</th>\n",
       "      <td>Iowa</td>\n",
       "      <td>6</td>\n",
       "    </tr>\n",
       "    <tr>\n",
       "      <th>12</th>\n",
       "      <td>Michigan</td>\n",
       "      <td>5</td>\n",
       "    </tr>\n",
       "    <tr>\n",
       "      <th>16</th>\n",
       "      <td>Nevada</td>\n",
       "      <td>4</td>\n",
       "    </tr>\n",
       "    <tr>\n",
       "      <th>26</th>\n",
       "      <td>Virginia</td>\n",
       "      <td>4</td>\n",
       "    </tr>\n",
       "    <tr>\n",
       "      <th>22</th>\n",
       "      <td>Pennsylvania</td>\n",
       "      <td>4</td>\n",
       "    </tr>\n",
       "    <tr>\n",
       "      <th>11</th>\n",
       "      <td>Massachusetts</td>\n",
       "      <td>3</td>\n",
       "    </tr>\n",
       "    <tr>\n",
       "      <th>0</th>\n",
       "      <td>Alaska</td>\n",
       "      <td>1</td>\n",
       "    </tr>\n",
       "    <tr>\n",
       "      <th>25</th>\n",
       "      <td>Utah</td>\n",
       "      <td>1</td>\n",
       "    </tr>\n",
       "    <tr>\n",
       "      <th>23</th>\n",
       "      <td>South Carolina</td>\n",
       "      <td>1</td>\n",
       "    </tr>\n",
       "    <tr>\n",
       "      <th>21</th>\n",
       "      <td>Oregon</td>\n",
       "      <td>1</td>\n",
       "    </tr>\n",
       "    <tr>\n",
       "      <th>14</th>\n",
       "      <td>Missouri</td>\n",
       "      <td>1</td>\n",
       "    </tr>\n",
       "    <tr>\n",
       "      <th>13</th>\n",
       "      <td>Minnesota</td>\n",
       "      <td>1</td>\n",
       "    </tr>\n",
       "    <tr>\n",
       "      <th>9</th>\n",
       "      <td>Illinois</td>\n",
       "      <td>1</td>\n",
       "    </tr>\n",
       "    <tr>\n",
       "      <th>7</th>\n",
       "      <td>Georgia</td>\n",
       "      <td>1</td>\n",
       "    </tr>\n",
       "    <tr>\n",
       "      <th>5</th>\n",
       "      <td>Connecticut</td>\n",
       "      <td>1</td>\n",
       "    </tr>\n",
       "    <tr>\n",
       "      <th>27</th>\n",
       "      <td>Washington</td>\n",
       "      <td>1</td>\n",
       "    </tr>\n",
       "    <tr>\n",
       "      <th>15</th>\n",
       "      <td>Nebraska</td>\n",
       "      <td>0</td>\n",
       "    </tr>\n",
       "    <tr>\n",
       "      <th>1</th>\n",
       "      <td>Arizona</td>\n",
       "      <td>0</td>\n",
       "    </tr>\n",
       "    <tr>\n",
       "      <th>18</th>\n",
       "      <td>New Mexico</td>\n",
       "      <td>0</td>\n",
       "    </tr>\n",
       "    <tr>\n",
       "      <th>20</th>\n",
       "      <td>Ohio</td>\n",
       "      <td>0</td>\n",
       "    </tr>\n",
       "    <tr>\n",
       "      <th>8</th>\n",
       "      <td>Hawaii</td>\n",
       "      <td>0</td>\n",
       "    </tr>\n",
       "    <tr>\n",
       "      <th>4</th>\n",
       "      <td>Colorado</td>\n",
       "      <td>0</td>\n",
       "    </tr>\n",
       "    <tr>\n",
       "      <th>2</th>\n",
       "      <td>Arkansas</td>\n",
       "      <td>0</td>\n",
       "    </tr>\n",
       "  </tbody>\n",
       "</table>\n",
       "</div>"
      ],
      "text/plain": [
       "          state_cd  total_delinquent\n",
       "19        New York               154\n",
       "3       California               145\n",
       "24           Texas               144\n",
       "6          Florida                90\n",
       "17      New Jersey                45\n",
       "10            Iowa                 6\n",
       "12        Michigan                 5\n",
       "16          Nevada                 4\n",
       "26        Virginia                 4\n",
       "22    Pennsylvania                 4\n",
       "11   Massachusetts                 3\n",
       "0           Alaska                 1\n",
       "25            Utah                 1\n",
       "23  South Carolina                 1\n",
       "21          Oregon                 1\n",
       "14        Missouri                 1\n",
       "13       Minnesota                 1\n",
       "9         Illinois                 1\n",
       "7          Georgia                 1\n",
       "5      Connecticut                 1\n",
       "27      Washington                 1\n",
       "15        Nebraska                 0\n",
       "1          Arizona                 0\n",
       "18      New Mexico                 0\n",
       "20            Ohio                 0\n",
       "8           Hawaii                 0\n",
       "4         Colorado                 0\n",
       "2         Arkansas                 0"
      ]
     },
     "execution_count": 54,
     "metadata": {},
     "output_type": "execute_result"
    }
   ],
   "source": [
    "delinq_by_state = merged_df.groupby('state_cd')['Delinquent_Acc'].sum().reset_index(name='total_delinquent')\n",
    "delinq_by_state = delinq_by_state.sort_values(by='total_delinquent', ascending=False)\n",
    "delinq_by_state"
   ]
  },
  {
   "cell_type": "code",
   "execution_count": 55,
   "id": "26a6f2eb-8332-4613-8aa3-ea127365ca64",
   "metadata": {},
   "outputs": [
    {
     "data": {
      "text/html": [
       "<div>\n",
       "<style scoped>\n",
       "    .dataframe tbody tr th:only-of-type {\n",
       "        vertical-align: middle;\n",
       "    }\n",
       "\n",
       "    .dataframe tbody tr th {\n",
       "        vertical-align: top;\n",
       "    }\n",
       "\n",
       "    .dataframe thead th {\n",
       "        text-align: right;\n",
       "    }\n",
       "</style>\n",
       "<table border=\"1\" class=\"dataframe\">\n",
       "  <thead>\n",
       "    <tr style=\"text-align: right;\">\n",
       "      <th></th>\n",
       "      <th>state_cd</th>\n",
       "      <th>total_delinquent</th>\n",
       "      <th>percentage</th>\n",
       "    </tr>\n",
       "  </thead>\n",
       "  <tbody>\n",
       "    <tr>\n",
       "      <th>19</th>\n",
       "      <td>New York</td>\n",
       "      <td>154</td>\n",
       "      <td>25.081433</td>\n",
       "    </tr>\n",
       "    <tr>\n",
       "      <th>3</th>\n",
       "      <td>California</td>\n",
       "      <td>145</td>\n",
       "      <td>23.615635</td>\n",
       "    </tr>\n",
       "    <tr>\n",
       "      <th>24</th>\n",
       "      <td>Texas</td>\n",
       "      <td>144</td>\n",
       "      <td>23.452769</td>\n",
       "    </tr>\n",
       "    <tr>\n",
       "      <th>6</th>\n",
       "      <td>Florida</td>\n",
       "      <td>90</td>\n",
       "      <td>14.657980</td>\n",
       "    </tr>\n",
       "    <tr>\n",
       "      <th>17</th>\n",
       "      <td>New Jersey</td>\n",
       "      <td>45</td>\n",
       "      <td>7.328990</td>\n",
       "    </tr>\n",
       "    <tr>\n",
       "      <th>10</th>\n",
       "      <td>Iowa</td>\n",
       "      <td>6</td>\n",
       "      <td>0.977199</td>\n",
       "    </tr>\n",
       "    <tr>\n",
       "      <th>12</th>\n",
       "      <td>Michigan</td>\n",
       "      <td>5</td>\n",
       "      <td>0.814332</td>\n",
       "    </tr>\n",
       "    <tr>\n",
       "      <th>16</th>\n",
       "      <td>Nevada</td>\n",
       "      <td>4</td>\n",
       "      <td>0.651466</td>\n",
       "    </tr>\n",
       "    <tr>\n",
       "      <th>26</th>\n",
       "      <td>Virginia</td>\n",
       "      <td>4</td>\n",
       "      <td>0.651466</td>\n",
       "    </tr>\n",
       "    <tr>\n",
       "      <th>22</th>\n",
       "      <td>Pennsylvania</td>\n",
       "      <td>4</td>\n",
       "      <td>0.651466</td>\n",
       "    </tr>\n",
       "    <tr>\n",
       "      <th>11</th>\n",
       "      <td>Massachusetts</td>\n",
       "      <td>3</td>\n",
       "      <td>0.488599</td>\n",
       "    </tr>\n",
       "    <tr>\n",
       "      <th>0</th>\n",
       "      <td>Alaska</td>\n",
       "      <td>1</td>\n",
       "      <td>0.162866</td>\n",
       "    </tr>\n",
       "    <tr>\n",
       "      <th>25</th>\n",
       "      <td>Utah</td>\n",
       "      <td>1</td>\n",
       "      <td>0.162866</td>\n",
       "    </tr>\n",
       "    <tr>\n",
       "      <th>23</th>\n",
       "      <td>South Carolina</td>\n",
       "      <td>1</td>\n",
       "      <td>0.162866</td>\n",
       "    </tr>\n",
       "    <tr>\n",
       "      <th>21</th>\n",
       "      <td>Oregon</td>\n",
       "      <td>1</td>\n",
       "      <td>0.162866</td>\n",
       "    </tr>\n",
       "    <tr>\n",
       "      <th>14</th>\n",
       "      <td>Missouri</td>\n",
       "      <td>1</td>\n",
       "      <td>0.162866</td>\n",
       "    </tr>\n",
       "    <tr>\n",
       "      <th>13</th>\n",
       "      <td>Minnesota</td>\n",
       "      <td>1</td>\n",
       "      <td>0.162866</td>\n",
       "    </tr>\n",
       "    <tr>\n",
       "      <th>9</th>\n",
       "      <td>Illinois</td>\n",
       "      <td>1</td>\n",
       "      <td>0.162866</td>\n",
       "    </tr>\n",
       "    <tr>\n",
       "      <th>7</th>\n",
       "      <td>Georgia</td>\n",
       "      <td>1</td>\n",
       "      <td>0.162866</td>\n",
       "    </tr>\n",
       "    <tr>\n",
       "      <th>5</th>\n",
       "      <td>Connecticut</td>\n",
       "      <td>1</td>\n",
       "      <td>0.162866</td>\n",
       "    </tr>\n",
       "    <tr>\n",
       "      <th>27</th>\n",
       "      <td>Washington</td>\n",
       "      <td>1</td>\n",
       "      <td>0.162866</td>\n",
       "    </tr>\n",
       "    <tr>\n",
       "      <th>15</th>\n",
       "      <td>Nebraska</td>\n",
       "      <td>0</td>\n",
       "      <td>0.000000</td>\n",
       "    </tr>\n",
       "    <tr>\n",
       "      <th>1</th>\n",
       "      <td>Arizona</td>\n",
       "      <td>0</td>\n",
       "      <td>0.000000</td>\n",
       "    </tr>\n",
       "    <tr>\n",
       "      <th>18</th>\n",
       "      <td>New Mexico</td>\n",
       "      <td>0</td>\n",
       "      <td>0.000000</td>\n",
       "    </tr>\n",
       "    <tr>\n",
       "      <th>20</th>\n",
       "      <td>Ohio</td>\n",
       "      <td>0</td>\n",
       "      <td>0.000000</td>\n",
       "    </tr>\n",
       "    <tr>\n",
       "      <th>8</th>\n",
       "      <td>Hawaii</td>\n",
       "      <td>0</td>\n",
       "      <td>0.000000</td>\n",
       "    </tr>\n",
       "    <tr>\n",
       "      <th>4</th>\n",
       "      <td>Colorado</td>\n",
       "      <td>0</td>\n",
       "      <td>0.000000</td>\n",
       "    </tr>\n",
       "    <tr>\n",
       "      <th>2</th>\n",
       "      <td>Arkansas</td>\n",
       "      <td>0</td>\n",
       "      <td>0.000000</td>\n",
       "    </tr>\n",
       "  </tbody>\n",
       "</table>\n",
       "</div>"
      ],
      "text/plain": [
       "          state_cd  total_delinquent  percentage\n",
       "19        New York               154   25.081433\n",
       "3       California               145   23.615635\n",
       "24           Texas               144   23.452769\n",
       "6          Florida                90   14.657980\n",
       "17      New Jersey                45    7.328990\n",
       "10            Iowa                 6    0.977199\n",
       "12        Michigan                 5    0.814332\n",
       "16          Nevada                 4    0.651466\n",
       "26        Virginia                 4    0.651466\n",
       "22    Pennsylvania                 4    0.651466\n",
       "11   Massachusetts                 3    0.488599\n",
       "0           Alaska                 1    0.162866\n",
       "25            Utah                 1    0.162866\n",
       "23  South Carolina                 1    0.162866\n",
       "21          Oregon                 1    0.162866\n",
       "14        Missouri                 1    0.162866\n",
       "13       Minnesota                 1    0.162866\n",
       "9         Illinois                 1    0.162866\n",
       "7          Georgia                 1    0.162866\n",
       "5      Connecticut                 1    0.162866\n",
       "27      Washington                 1    0.162866\n",
       "15        Nebraska                 0    0.000000\n",
       "1          Arizona                 0    0.000000\n",
       "18      New Mexico                 0    0.000000\n",
       "20            Ohio                 0    0.000000\n",
       "8           Hawaii                 0    0.000000\n",
       "4         Colorado                 0    0.000000\n",
       "2         Arkansas                 0    0.000000"
      ]
     },
     "execution_count": 55,
     "metadata": {},
     "output_type": "execute_result"
    }
   ],
   "source": [
    "total_delinq = delinq_by_state['total_delinquent'].sum()\n",
    "delinq_by_state['percentage'] = (delinq_by_state['total_delinquent'] / total_delinq) * 100\n",
    "delinq_by_state"
   ]
  },
  {
   "cell_type": "code",
   "execution_count": 56,
   "id": "65abe473-3428-40bf-8a4e-4bc605c67631",
   "metadata": {},
   "outputs": [
    {
     "data": {
      "application/vnd.plotly.v1+json": {
       "config": {
        "plotlyServerURL": "https://plot.ly"
       },
       "data": [
        {
         "hovertemplate": "total_delinquent=%{text}<br>state_cd=%{y}<extra></extra>",
         "legendgroup": "",
         "marker": {
          "color": "#002366",
          "pattern": {
           "shape": ""
          }
         },
         "name": "",
         "orientation": "h",
         "showlegend": false,
         "text": {
          "_inputArray": {
           "0": 154,
           "1": 145,
           "2": 144,
           "3": 90,
           "4": 45,
           "5": 6,
           "6": 5,
           "7": 4,
           "8": 4,
           "9": 4,
           "bdata": "AAAAAABAY0AAAAAAACBiQAAAAAAAAGJAAAAAAACAVkAAAAAAAIBGQAAAAAAAABhAAAAAAAAAFEAAAAAAAAAQQAAAAAAAABBAAAAAAAAAEEA=",
           "dtype": "f8",
           "shape": "10"
          },
          "bdata": "AAAAAABAY0AAAAAAACBiQAAAAAAAAGJAAAAAAACAVkAAAAAAAIBGQAAAAAAAABhAAAAAAAAAFEAAAAAAAAAQQAAAAAAAABBAAAAAAAAAEEA=",
          "dtype": "f8"
         },
         "textposition": "inside",
         "type": "bar",
         "x": {
          "_inputArray": {
           "0": 154,
           "1": 145,
           "2": 144,
           "3": 90,
           "4": 45,
           "5": 6,
           "6": 5,
           "7": 4,
           "8": 4,
           "9": 4,
           "bdata": "mgCRAJAAWgAtAAYABQAEAAQABAA=",
           "dtype": "i2",
           "shape": "10"
          },
          "bdata": "mgCRAJAAWgAtAAYABQAEAAQABAA=",
          "dtype": "i2"
         },
         "xaxis": "x",
         "y": [
          "New York",
          "California",
          "Texas",
          "Florida",
          "New Jersey",
          "Iowa",
          "Michigan",
          "Nevada",
          "Virginia",
          "Pennsylvania"
         ],
         "yaxis": "y"
        }
       ],
       "layout": {
        "barmode": "relative",
        "height": 500,
        "legend": {
         "tracegroupgap": 0
        },
        "margin": {
         "b": 50,
         "l": 250,
         "r": 50,
         "t": 50
        },
        "paper_bgcolor": "rgba(0, 0, 0, 0)",
        "plot_bgcolor": "rgba(0, 0, 0, 0)",
        "template": {
         "data": {
          "pie": [
           {
            "automargin": true,
            "type": "pie"
           }
          ],
          "scatter": [
           {
            "line": {
             "width": 3
            },
            "marker": {
             "size": 9
            },
            "type": "scatter"
           }
          ],
          "scatter3d": [
           {
            "line": {
             "width": 3
            },
            "marker": {
             "size": 9
            },
            "type": "scatter3d"
           }
          ],
          "scattergeo": [
           {
            "line": {
             "width": 3
            },
            "marker": {
             "size": 9
            },
            "type": "scattergeo"
           }
          ],
          "scattergl": [
           {
            "line": {
             "width": 3
            },
            "marker": {
             "size": 9
            },
            "type": "scattergl"
           }
          ],
          "scatterpolar": [
           {
            "line": {
             "width": 3
            },
            "marker": {
             "size": 9
            },
            "type": "scatterpolar"
           }
          ],
          "scatterpolargl": [
           {
            "line": {
             "width": 3
            },
            "marker": {
             "size": 9
            },
            "type": "scatterpolargl"
           }
          ],
          "scatterternary": [
           {
            "line": {
             "width": 3
            },
            "marker": {
             "size": 9
            },
            "type": "scatterternary"
           }
          ],
          "table": [
           {
            "cells": {
             "height": 30
            },
            "header": {
             "height": 36
            },
            "type": "table"
           }
          ]
         },
         "layout": {
          "font": {
           "size": 18
          },
          "xaxis": {
           "title": {
            "standoff": 15
           }
          },
          "yaxis": {
           "title": {
            "standoff": 15
           }
          }
         }
        },
        "title": {
         "text": "Top 10 Delinquent Accounts by State"
        },
        "width": 1100,
        "xaxis": {
         "anchor": "y",
         "autorange": true,
         "domain": [
          0,
          1
         ],
         "range": [
          0,
          162.10526315789474
         ],
         "showgrid": false,
         "title": {
          "text": "Number of Delinquent Accounts"
         },
         "type": "linear"
        },
        "yaxis": {
         "anchor": "x",
         "autorange": true,
         "domain": [
          0,
          1
         ],
         "range": [
          -0.5,
          9.5
         ],
         "showgrid": false,
         "title": {
          "text": "State"
         },
         "type": "category"
        }
       }
      }
     },
     "metadata": {},
     "output_type": "display_data"
    }
   ],
   "source": [
    "num = 10\n",
    "delinq_by_states =  delinq_by_state.head(num)\n",
    "\n",
    "fig = px.bar(\n",
    "    delinq_by_states,\n",
    "    x='total_delinquent',\n",
    "    y='state_cd',\n",
    "    orientation='h',\n",
    "    title = f'Top {num} Delinquent Accounts by State',\n",
    "    height=500,\n",
    "    width=1100,\n",
    "    color_discrete_sequence=['#002366'],\n",
    "    text='total_delinquent'\n",
    ")\n",
    "\n",
    "fig.update_layout(\n",
    "    template=\"presentation\",\n",
    "    xaxis_title='Number of Delinquent Accounts',\n",
    "    yaxis_title='State',\n",
    "    margin=dict(l=250, r=50, t=50, b=50),\n",
    "    paper_bgcolor=\"rgba(0,0,0,0)\",\n",
    "    plot_bgcolor=\"rgba(0,0,0,0)\",\n",
    "    xaxis=dict(showgrid=False),\n",
    "    yaxis=dict(showgrid=False)\n",
    ")\n",
    "\n",
    "fig.update_traces(textposition='inside')\n",
    "fig.write_image(os.path.join(results_dir, 'Delinquent_Accounts_by_State.jpg'))\n",
    "fig.write_image(os.path.join(results_dir, 'Delinquent_Accounts_by_State.png'))\n",
    "fig.write_html(os.path.join(results_dir, 'Delinquent_Accounts_by_State.html'))\n",
    "\n",
    "fig.show()"
   ]
  },
  {
   "cell_type": "markdown",
   "id": "46bbaa6c-ca59-460a-bfbd-9bf2634b8841",
   "metadata": {},
   "source": [
    "### Customer Count by Satisfaction Level"
   ]
  },
  {
   "cell_type": "code",
   "execution_count": 57,
   "id": "21098926-a0e7-446c-a4c6-6b0ccbec5829",
   "metadata": {},
   "outputs": [
    {
     "data": {
      "text/html": [
       "<div>\n",
       "<style scoped>\n",
       "    .dataframe tbody tr th:only-of-type {\n",
       "        vertical-align: middle;\n",
       "    }\n",
       "\n",
       "    .dataframe tbody tr th {\n",
       "        vertical-align: top;\n",
       "    }\n",
       "\n",
       "    .dataframe thead th {\n",
       "        text-align: right;\n",
       "    }\n",
       "</style>\n",
       "<table border=\"1\" class=\"dataframe\">\n",
       "  <thead>\n",
       "    <tr style=\"text-align: right;\">\n",
       "      <th></th>\n",
       "      <th>Cust_Satisfaction_Score</th>\n",
       "      <th>customer_count</th>\n",
       "    </tr>\n",
       "  </thead>\n",
       "  <tbody>\n",
       "    <tr>\n",
       "      <th>4</th>\n",
       "      <td>5</td>\n",
       "      <td>1976</td>\n",
       "    </tr>\n",
       "    <tr>\n",
       "      <th>3</th>\n",
       "      <td>4</td>\n",
       "      <td>2099</td>\n",
       "    </tr>\n",
       "    <tr>\n",
       "      <th>2</th>\n",
       "      <td>3</td>\n",
       "      <td>3068</td>\n",
       "    </tr>\n",
       "    <tr>\n",
       "      <th>1</th>\n",
       "      <td>2</td>\n",
       "      <td>1792</td>\n",
       "    </tr>\n",
       "    <tr>\n",
       "      <th>0</th>\n",
       "      <td>1</td>\n",
       "      <td>1173</td>\n",
       "    </tr>\n",
       "  </tbody>\n",
       "</table>\n",
       "</div>"
      ],
      "text/plain": [
       "   Cust_Satisfaction_Score  customer_count\n",
       "4                        5            1976\n",
       "3                        4            2099\n",
       "2                        3            3068\n",
       "1                        2            1792\n",
       "0                        1            1173"
      ]
     },
     "execution_count": 57,
     "metadata": {},
     "output_type": "execute_result"
    }
   ],
   "source": [
    "funnel_df = merged_df.groupby('Cust_Satisfaction_Score')['Client_Num'].count().reset_index(name='customer_count')\n",
    "funnel_df = funnel_df.sort_values(by='Cust_Satisfaction_Score', ascending=False)\n",
    "funnel_df"
   ]
  },
  {
   "cell_type": "code",
   "execution_count": 58,
   "id": "f315d783-1bb5-400e-8192-2e8badfa9789",
   "metadata": {},
   "outputs": [
    {
     "data": {
      "application/vnd.plotly.v1+json": {
       "config": {
        "plotlyServerURL": "https://plot.ly"
       },
       "data": [
        {
         "marker": {
          "color": "#002366"
         },
         "textinfo": "value+percent initial",
         "type": "funnel",
         "x": {
          "_inputArray": {
           "0": 1976,
           "1": 2099,
           "2": 3068,
           "3": 1792,
           "4": 1173,
           "bdata": "uAczCPwLAAeVBA==",
           "dtype": "i2",
           "shape": "5"
          },
          "bdata": "uAczCPwLAAeVBA==",
          "dtype": "i2"
         },
         "y": [
          "5",
          "4",
          "3",
          "2",
          "1"
         ]
        }
       ],
       "layout": {
        "height": 500,
        "paper_bgcolor": "rgba(0, 0, 0, 0)",
        "plot_bgcolor": "rgba(0, 0, 0, 0)",
        "template": {
         "data": {
          "pie": [
           {
            "automargin": true,
            "type": "pie"
           }
          ],
          "scatter": [
           {
            "line": {
             "width": 3
            },
            "marker": {
             "size": 9
            },
            "type": "scatter"
           }
          ],
          "scatter3d": [
           {
            "line": {
             "width": 3
            },
            "marker": {
             "size": 9
            },
            "type": "scatter3d"
           }
          ],
          "scattergeo": [
           {
            "line": {
             "width": 3
            },
            "marker": {
             "size": 9
            },
            "type": "scattergeo"
           }
          ],
          "scattergl": [
           {
            "line": {
             "width": 3
            },
            "marker": {
             "size": 9
            },
            "type": "scattergl"
           }
          ],
          "scatterpolar": [
           {
            "line": {
             "width": 3
            },
            "marker": {
             "size": 9
            },
            "type": "scatterpolar"
           }
          ],
          "scatterpolargl": [
           {
            "line": {
             "width": 3
            },
            "marker": {
             "size": 9
            },
            "type": "scatterpolargl"
           }
          ],
          "scatterternary": [
           {
            "line": {
             "width": 3
            },
            "marker": {
             "size": 9
            },
            "type": "scatterternary"
           }
          ],
          "table": [
           {
            "cells": {
             "height": 30
            },
            "header": {
             "height": 36
            },
            "type": "table"
           }
          ]
         },
         "layout": {
          "font": {
           "size": 18
          },
          "xaxis": {
           "title": {
            "standoff": 15
           }
          },
          "yaxis": {
           "title": {
            "standoff": 15
           }
          }
         }
        },
        "title": {
         "text": "Customer Count by Satisfaction Level"
        },
        "width": 800,
        "xaxis": {
         "autorange": true,
         "range": [
          -1704.4444444444443,
          1704.4444444444443
         ],
         "type": "linear"
        },
        "yaxis": {
         "autorange": true,
         "range": [
          5.5,
          0.5
         ],
         "type": "linear"
        }
       }
      }
     },
     "metadata": {},
     "output_type": "display_data"
    }
   ],
   "source": [
    "import plotly.graph_objects as go\n",
    "\n",
    "fig = go.Figure(go.Funnel(\n",
    "    y = funnel_df['Cust_Satisfaction_Score'].astype(str),\n",
    "    x = funnel_df['customer_count'],\n",
    "    textinfo = \"value+percent initial\",\n",
    "    marker = {\"color\": \"#002366\"}\n",
    "))\n",
    "\n",
    "fig.update_layout(\n",
    "    title=\"Customer Count by Satisfaction Level\",\n",
    "    template=\"presentation\",\n",
    "    paper_bgcolor=\"rgba(0,0,0,0)\",\n",
    "    plot_bgcolor=\"rgba(0,0,0,0)\",\n",
    "    height=500,\n",
    "    width=800\n",
    ")\n",
    "\n",
    "fig.write_image(os.path.join(results_dir, 'Customer_Count_by_Satisfaction_Funnel.jpg'))\n",
    "fig.write_image(os.path.join(results_dir, 'Customer_Count_by_Satisfaction_Funnel.png'))\n",
    "fig.write_html(os.path.join(results_dir, 'Customer_Count_by_Satisfaction_Funnel.html'))\n",
    "\n",
    "fig.show()"
   ]
  },
  {
   "cell_type": "markdown",
   "id": "bbf25e73-964f-4d9d-86b5-aa5f0bf72a26",
   "metadata": {},
   "source": [
    "### Customer Occupation Breakdown"
   ]
  },
  {
   "cell_type": "code",
   "execution_count": 59,
   "id": "7c55e30d-63c9-4e2a-a3e4-5b24d5631e82",
   "metadata": {},
   "outputs": [
    {
     "data": {
      "text/html": [
       "<div>\n",
       "<style scoped>\n",
       "    .dataframe tbody tr th:only-of-type {\n",
       "        vertical-align: middle;\n",
       "    }\n",
       "\n",
       "    .dataframe tbody tr th {\n",
       "        vertical-align: top;\n",
       "    }\n",
       "\n",
       "    .dataframe thead th {\n",
       "        text-align: right;\n",
       "    }\n",
       "</style>\n",
       "<table border=\"1\" class=\"dataframe\">\n",
       "  <thead>\n",
       "    <tr style=\"text-align: right;\">\n",
       "      <th></th>\n",
       "      <th>Customer_Job</th>\n",
       "      <th>customer_count</th>\n",
       "    </tr>\n",
       "  </thead>\n",
       "  <tbody>\n",
       "    <tr>\n",
       "      <th>4</th>\n",
       "      <td>Selfemployeed</td>\n",
       "      <td>2575</td>\n",
       "    </tr>\n",
       "    <tr>\n",
       "      <th>1</th>\n",
       "      <td>Businessman</td>\n",
       "      <td>1901</td>\n",
       "    </tr>\n",
       "    <tr>\n",
       "      <th>0</th>\n",
       "      <td>Blue-Collar</td>\n",
       "      <td>1579</td>\n",
       "    </tr>\n",
       "    <tr>\n",
       "      <th>5</th>\n",
       "      <td>White-Collar</td>\n",
       "      <td>1542</td>\n",
       "    </tr>\n",
       "    <tr>\n",
       "      <th>2</th>\n",
       "      <td>Govt</td>\n",
       "      <td>1525</td>\n",
       "    </tr>\n",
       "    <tr>\n",
       "      <th>3</th>\n",
       "      <td>Retirees</td>\n",
       "      <td>986</td>\n",
       "    </tr>\n",
       "  </tbody>\n",
       "</table>\n",
       "</div>"
      ],
      "text/plain": [
       "    Customer_Job  customer_count\n",
       "4  Selfemployeed            2575\n",
       "1    Businessman            1901\n",
       "0    Blue-Collar            1579\n",
       "5   White-Collar            1542\n",
       "2           Govt            1525\n",
       "3       Retirees             986"
      ]
     },
     "execution_count": 59,
     "metadata": {},
     "output_type": "execute_result"
    }
   ],
   "source": [
    "job_df = merged_df.groupby('Customer_Job')['Client_Num'].count().reset_index(name='customer_count')\n",
    "job_df = job_df.sort_values(by='customer_count', ascending=False)\n",
    "job_df"
   ]
  },
  {
   "cell_type": "code",
   "execution_count": 60,
   "id": "d1fc1c6b-410a-4963-a132-7fd84c99d039",
   "metadata": {},
   "outputs": [
    {
     "data": {
      "text/html": [
       "<div>\n",
       "<style scoped>\n",
       "    .dataframe tbody tr th:only-of-type {\n",
       "        vertical-align: middle;\n",
       "    }\n",
       "\n",
       "    .dataframe tbody tr th {\n",
       "        vertical-align: top;\n",
       "    }\n",
       "\n",
       "    .dataframe thead th {\n",
       "        text-align: right;\n",
       "    }\n",
       "</style>\n",
       "<table border=\"1\" class=\"dataframe\">\n",
       "  <thead>\n",
       "    <tr style=\"text-align: right;\">\n",
       "      <th></th>\n",
       "      <th>Customer_Job</th>\n",
       "      <th>customer_count</th>\n",
       "      <th>percentage</th>\n",
       "    </tr>\n",
       "  </thead>\n",
       "  <tbody>\n",
       "    <tr>\n",
       "      <th>4</th>\n",
       "      <td>Selfemployeed</td>\n",
       "      <td>2575</td>\n",
       "      <td>25.474871</td>\n",
       "    </tr>\n",
       "    <tr>\n",
       "      <th>1</th>\n",
       "      <td>Businessman</td>\n",
       "      <td>1901</td>\n",
       "      <td>18.806886</td>\n",
       "    </tr>\n",
       "    <tr>\n",
       "      <th>0</th>\n",
       "      <td>Blue-Collar</td>\n",
       "      <td>1579</td>\n",
       "      <td>15.621290</td>\n",
       "    </tr>\n",
       "    <tr>\n",
       "      <th>5</th>\n",
       "      <td>White-Collar</td>\n",
       "      <td>1542</td>\n",
       "      <td>15.255243</td>\n",
       "    </tr>\n",
       "    <tr>\n",
       "      <th>2</th>\n",
       "      <td>Govt</td>\n",
       "      <td>1525</td>\n",
       "      <td>15.087060</td>\n",
       "    </tr>\n",
       "    <tr>\n",
       "      <th>3</th>\n",
       "      <td>Retirees</td>\n",
       "      <td>986</td>\n",
       "      <td>9.754650</td>\n",
       "    </tr>\n",
       "  </tbody>\n",
       "</table>\n",
       "</div>"
      ],
      "text/plain": [
       "    Customer_Job  customer_count  percentage\n",
       "4  Selfemployeed            2575   25.474871\n",
       "1    Businessman            1901   18.806886\n",
       "0    Blue-Collar            1579   15.621290\n",
       "5   White-Collar            1542   15.255243\n",
       "2           Govt            1525   15.087060\n",
       "3       Retirees             986    9.754650"
      ]
     },
     "execution_count": 60,
     "metadata": {},
     "output_type": "execute_result"
    }
   ],
   "source": [
    "total_jobs = job_df['customer_count'].sum()\n",
    "job_df['percentage'] = (job_df['customer_count'] / total_jobs) * 100\n",
    "job_df"
   ]
  },
  {
   "cell_type": "code",
   "execution_count": 61,
   "id": "a5217630-8234-4e3c-9508-3ed3b4a2e0ec",
   "metadata": {},
   "outputs": [
    {
     "data": {
      "application/vnd.plotly.v1+json": {
       "config": {
        "plotlyServerURL": "https://plot.ly"
       },
       "data": [
        {
         "hovertemplate": "Customer_Job=%{x}<br>percentage=%{text}<extra></extra>",
         "legendgroup": "",
         "marker": {
          "color": "#002366",
          "line": {
           "width": 0
          },
          "pattern": {
           "shape": ""
          }
         },
         "name": "",
         "orientation": "v",
         "showlegend": false,
         "text": {
          "_inputArray": {
           "0": 25.474871388998814,
           "1": 18.806885635140482,
           "2": 15.621290067273447,
           "3": 15.255243371586863,
           "4": 15.08705975464978,
           "5": 9.754649782350613,
           "bdata": "Vo7dK5F5OUBiipYOkM4yQMeJULsZPi9AA/laQq+CLkCFCZ4YkywuQEFCznRhgiNA",
           "dtype": "f8",
           "shape": "6"
          },
          "bdata": "Vo7dK5F5OUBiipYOkM4yQMeJULsZPi9AA/laQq+CLkCFCZ4YkywuQEFCznRhgiNA",
          "dtype": "f8"
         },
         "textposition": "outside",
         "texttemplate": "%{text:.2f}%",
         "type": "bar",
         "x": [
          "Selfemployeed",
          "Businessman",
          "Blue-Collar",
          "White-Collar",
          "Govt",
          "Retirees"
         ],
         "xaxis": "x",
         "y": {
          "_inputArray": {
           "0": 25.474871388998814,
           "1": 18.806885635140482,
           "2": 15.621290067273447,
           "3": 15.255243371586863,
           "4": 15.08705975464978,
           "5": 9.754649782350613,
           "bdata": "Vo7dK5F5OUBiipYOkM4yQMeJULsZPi9AA/laQq+CLkCFCZ4YkywuQEFCznRhgiNA",
           "dtype": "f8",
           "shape": "6"
          },
          "bdata": "Vo7dK5F5OUBiipYOkM4yQMeJULsZPi9AA/laQq+CLkCFCZ4YkywuQEFCznRhgiNA",
          "dtype": "f8"
         },
         "yaxis": "y"
        }
       ],
       "layout": {
        "barmode": "relative",
        "height": 600,
        "legend": {
         "tracegroupgap": 0
        },
        "paper_bgcolor": "rgba(0, 0, 0, 0)",
        "plot_bgcolor": "rgba(0, 0, 0, 0)",
        "template": {
         "data": {
          "pie": [
           {
            "automargin": true,
            "type": "pie"
           }
          ],
          "scatter": [
           {
            "line": {
             "width": 3
            },
            "marker": {
             "size": 9
            },
            "type": "scatter"
           }
          ],
          "scatter3d": [
           {
            "line": {
             "width": 3
            },
            "marker": {
             "size": 9
            },
            "type": "scatter3d"
           }
          ],
          "scattergeo": [
           {
            "line": {
             "width": 3
            },
            "marker": {
             "size": 9
            },
            "type": "scattergeo"
           }
          ],
          "scattergl": [
           {
            "line": {
             "width": 3
            },
            "marker": {
             "size": 9
            },
            "type": "scattergl"
           }
          ],
          "scatterpolar": [
           {
            "line": {
             "width": 3
            },
            "marker": {
             "size": 9
            },
            "type": "scatterpolar"
           }
          ],
          "scatterpolargl": [
           {
            "line": {
             "width": 3
            },
            "marker": {
             "size": 9
            },
            "type": "scatterpolargl"
           }
          ],
          "scatterternary": [
           {
            "line": {
             "width": 3
            },
            "marker": {
             "size": 9
            },
            "type": "scatterternary"
           }
          ],
          "table": [
           {
            "cells": {
             "height": 30
            },
            "header": {
             "height": 36
            },
            "type": "table"
           }
          ]
         },
         "layout": {
          "font": {
           "size": 18
          },
          "xaxis": {
           "title": {
            "standoff": 15
           }
          },
          "yaxis": {
           "title": {
            "standoff": 15
           }
          }
         }
        },
        "title": {
         "text": "Customer Occupation Breakdown (%)"
        },
        "width": 1000,
        "xaxis": {
         "anchor": "y",
         "autorange": true,
         "domain": [
          0,
          1
         ],
         "range": [
          -0.5,
          5.5
         ],
         "showgrid": false,
         "title": {
          "text": "Customer Job"
         },
         "type": "category"
        },
        "yaxis": {
         "anchor": "x",
         "autorange": true,
         "domain": [
          0,
          1
         ],
         "range": [
          0,
          26.815654093682962
         ],
         "showgrid": false,
         "title": {
          "text": "Percentage of Customers"
         },
         "type": "linear"
        }
       }
      },
      "image/png": "[encoded data removed]"
     },
     "metadata": {},
     "output_type": "display_data"
    }
   ],
   "source": [
    "fig = px.bar(\n",
    "    job_df,\n",
    "    x='Customer_Job',\n",
    "    y='percentage',\n",
    "    title='Customer Occupation Breakdown (%)',\n",
    "    height=600,\n",
    "    width=1000,\n",
    "    color_discrete_sequence=['#002366'],\n",
    "    text='percentage'\n",
    ")\n",
    "\n",
    "fig.update_layout(\n",
    "    template=\"presentation\",\n",
    "    xaxis_title=\"Customer Job\",\n",
    "    yaxis_title=\"Percentage of Customers\",\n",
    "    paper_bgcolor=\"rgba(0,0,0,0)\",\n",
    "    plot_bgcolor=\"rgba(0,0,0,0)\",\n",
    "    xaxis=dict(showgrid=False),\n",
    "    yaxis=dict(showgrid=False)\n",
    ")\n",
    "\n",
    "fig.update_traces(\n",
    "    texttemplate=\"%{text:.2f}%\",\n",
    "    textposition=\"outside\",\n",
    "    marker_line_width=0\n",
    ")\n",
    "\n",
    "fig.write_image(os.path.join(results_dir, 'Customer_Job_Breakdown.jpg'))\n",
    "fig.write_image(os.path.join(results_dir, 'Customer_Job_Breakdown.png'))\n",
    "fig.write_html(os.path.join(results_dir, 'Customer_Job_Breakdown.html'))\n",
    "\n",
    "fig.show()"
   ]
  },
  {
   "cell_type": "code",
   "execution_count": null,
   "id": "3d5ee2a7-bfac-4429-bab3-e23d7a190cdd",
   "metadata": {},
   "outputs": [],
   "source": []
  },
  {
   "cell_type": "code",
   "execution_count": null,
   "id": "b697eac1-eaa9-4232-b0f5-9c5e94e00108",
   "metadata": {},
   "outputs": [],
   "source": []
  },
  {
   "cell_type": "code",
   "execution_count": null,
   "id": "fad8ae5e-1867-4e38-ac98-c8f2fb34ee12",
   "metadata": {},
   "outputs": [],
   "source": []
  },
  {
   "cell_type": "code",
   "execution_count": null,
   "id": "3ca022b7-a2b9-4621-ba07-2cd7a25ee9ad",
   "metadata": {},
   "outputs": [],
   "source": []
  }
 ],
 "metadata": {
  "kernelspec": {
   "display_name": "Python 3 (ipykernel)",
   "language": "python",
   "name": "python3"
  },
  "language_info": {
   "codemirror_mode": {
    "name": "ipython",
    "version": 3
   },
   "file_extension": ".py",
   "mimetype": "text/x-python",
   "name": "python",
   "nbconvert_exporter": "python",
   "pygments_lexer": "ipython3",
   "version": "3.12.7"
  }
 },
 "nbformat": 4,
 "nbformat_minor": 5
}
